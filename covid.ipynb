{
 "cells": [
  {
   "cell_type": "code",
   "execution_count": null,
   "id": "integrated-expansion",
   "metadata": {},
   "outputs": [],
   "source": [
    "# covid"
   ]
  },
  {
   "cell_type": "code",
   "execution_count": null,
   "id": "sized-estate",
   "metadata": {},
   "outputs": [],
   "source": [
    "url = \"https://raw.githubusercontent.com/CSSEGISandData/COVID-19/master/csse_covid_19_data/csse_covid_19_time_series/time_series_covid19_confirmed_global.csv\""
   ]
  },
  {
   "cell_type": "code",
   "execution_count": null,
   "id": "desirable-action",
   "metadata": {},
   "outputs": [],
   "source": [
    "url"
   ]
  },
  {
   "cell_type": "code",
   "execution_count": null,
   "id": "excess-final",
   "metadata": {},
   "outputs": [],
   "source": [
    "typeof(url)"
   ]
  },
  {
   "cell_type": "code",
   "execution_count": null,
   "id": "unlimited-olive",
   "metadata": {},
   "outputs": [],
   "source": [
    "x=3"
   ]
  },
  {
   "cell_type": "code",
   "execution_count": null,
   "id": "casual-margin",
   "metadata": {},
   "outputs": [],
   "source": [
    "typeof(x)"
   ]
  },
  {
   "cell_type": "code",
   "execution_count": null,
   "id": "magnetic-color",
   "metadata": {},
   "outputs": [],
   "source": [
    "x*x"
   ]
  },
  {
   "cell_type": "code",
   "execution_count": null,
   "id": "corrected-tribute",
   "metadata": {},
   "outputs": [],
   "source": [
    "url * url"
   ]
  },
  {
   "cell_type": "code",
   "execution_count": null,
   "id": "eleven-paint",
   "metadata": {},
   "outputs": [],
   "source": [
    "*"
   ]
  },
  {
   "cell_type": "code",
   "execution_count": null,
   "id": "entire-pierre",
   "metadata": {},
   "outputs": [],
   "source": [
    "methods(*);"
   ]
  },
  {
   "cell_type": "code",
   "execution_count": null,
   "id": "sustainable-luther",
   "metadata": {},
   "outputs": [],
   "source": [
    "(1 + 2im) * (3 + im)"
   ]
  },
  {
   "cell_type": "code",
   "execution_count": null,
   "id": "posted-filling",
   "metadata": {},
   "outputs": [],
   "source": [
    "@which (1 + 2im) * (3 + im)"
   ]
  },
  {
   "cell_type": "code",
   "execution_count": null,
   "id": "smaller-cisco",
   "metadata": {},
   "outputs": [],
   "source": [
    "url"
   ]
  },
  {
   "cell_type": "code",
   "execution_count": null,
   "id": "thick-bracelet",
   "metadata": {},
   "outputs": [],
   "source": [
    "# get data\n",
    "\n",
    "download(url, \"covid_data.csv\")"
   ]
  },
  {
   "cell_type": "code",
   "execution_count": null,
   "id": "stylish-compiler",
   "metadata": {},
   "outputs": [],
   "source": [
    "readdir"
   ]
  },
  {
   "cell_type": "code",
   "execution_count": null,
   "id": "valid-malpractice",
   "metadata": {},
   "outputs": [],
   "source": [
    "readdir()"
   ]
  },
  {
   "cell_type": "code",
   "execution_count": null,
   "id": "employed-julian",
   "metadata": {},
   "outputs": [],
   "source": [
    "import Pkg\n",
    "Pkg.add(\"BenchmarkTools\")\n",
    "Pkg.add(\"CSV\")\n",
    "Pkg.add(\"DataFrames\")\n",
    "Pkg.add(\"Dates\")\n",
    "Pkg.add(\"GraphPlot\")\n",
    "Pkg.add(\"Interact\")\n",
    "Pkg.add(\"LightGraphs\")\n",
    "Pkg.add(\"Plots\")\n",
    "Pkg.add(\"Random\")\n",
    "Pkg.add(\"Statistics\")\n",
    "Pkg.add(\"StatsBase\")\n",
    "using BenchmarkTools\n",
    "using CSV\n",
    "using DataFrames\n",
    "using Dates\n",
    "using GraphPlot\n",
    "using Interact\n",
    "using LightGraphs\n",
    "using Plots\n",
    "using Random\n",
    "using Statistics\n",
    "using StatsBase"
   ]
  },
  {
   "cell_type": "code",
   "execution_count": null,
   "id": "brutal-wisdom",
   "metadata": {},
   "outputs": [],
   "source": [
    "data = DataFrame(CSV.File(\"covid_data.csv\"))\n",
    "data = CSV.File(\"covid_data.csv\") |> DataFrame\n",
    "data = CSV.read(\"covid_data.csv\", DataFrame)"
   ]
  },
  {
   "cell_type": "code",
   "execution_count": null,
   "id": "proved-integrity",
   "metadata": {},
   "outputs": [],
   "source": [
    "typeof(data)"
   ]
  },
  {
   "cell_type": "code",
   "execution_count": null,
   "id": "governmental-melbourne",
   "metadata": {},
   "outputs": [],
   "source": [
    "data2 = rename(data, 1 => \"province\", 2 => \"country\")"
   ]
  },
  {
   "cell_type": "code",
   "execution_count": null,
   "id": "instant-student",
   "metadata": {},
   "outputs": [],
   "source": [
    "rename!(data, 1 => \"province\", 2 => \"country\")"
   ]
  },
  {
   "cell_type": "code",
   "execution_count": null,
   "id": "ambient-supplier",
   "metadata": {},
   "outputs": [],
   "source": [
    "data"
   ]
  },
  {
   "cell_type": "code",
   "execution_count": null,
   "id": "atlantic-audio",
   "metadata": {},
   "outputs": [],
   "source": [
    "data2"
   ]
  },
  {
   "cell_type": "code",
   "execution_count": null,
   "id": "whole-lemon",
   "metadata": {},
   "outputs": [],
   "source": [
    "for i in 1:10\n",
    "    @show i\n",
    "end"
   ]
  },
  {
   "cell_type": "code",
   "execution_count": null,
   "id": "photographic-potential",
   "metadata": {},
   "outputs": [],
   "source": [
    "typeof(1:10)"
   ]
  },
  {
   "cell_type": "code",
   "execution_count": null,
   "id": "seven-network",
   "metadata": {},
   "outputs": [],
   "source": [
    "collect(1:10)"
   ]
  },
  {
   "cell_type": "code",
   "execution_count": null,
   "id": "powerful-republic",
   "metadata": {},
   "outputs": [],
   "source": [
    "for i in 1:10\n",
    "    println(\"i = \", i)\n",
    "end"
   ]
  },
  {
   "cell_type": "code",
   "execution_count": null,
   "id": "nasty-interim",
   "metadata": {},
   "outputs": [],
   "source": [
    "for i in 1:10\n",
    "    @show i\n",
    "end"
   ]
  },
  {
   "cell_type": "code",
   "execution_count": null,
   "id": "liberal-storage",
   "metadata": {},
   "outputs": [],
   "source": [
    "for i in 1:10\n",
    "    i\n",
    "end"
   ]
  },
  {
   "cell_type": "code",
   "execution_count": null,
   "id": "assisted-champion",
   "metadata": {},
   "outputs": [],
   "source": [
    "@manipulate for i in 1:10\n",
    "    HTML(i^2)\n",
    "end"
   ]
  },
  {
   "cell_type": "code",
   "execution_count": null,
   "id": "touched-bouquet",
   "metadata": {},
   "outputs": [],
   "source": [
    "countries = data[2:5, 2]"
   ]
  },
  {
   "cell_type": "code",
   "execution_count": null,
   "id": "legitimate-single",
   "metadata": {},
   "outputs": [],
   "source": [
    "countries = data[1:end, 2]"
   ]
  },
  {
   "cell_type": "code",
   "execution_count": null,
   "id": "interstate-feature",
   "metadata": {},
   "outputs": [],
   "source": [
    "countries = collect(data[:, 2])"
   ]
  },
  {
   "cell_type": "code",
   "execution_count": null,
   "id": "requested-holocaust",
   "metadata": {},
   "outputs": [],
   "source": [
    "unique_countries = unique(countries)"
   ]
  },
  {
   "cell_type": "code",
   "execution_count": null,
   "id": "potential-celebration",
   "metadata": {},
   "outputs": [],
   "source": [
    "@manipulate for i in 1:length(countries)\n",
    "    countries[i]\n",
    "end"
   ]
  },
  {
   "cell_type": "code",
   "execution_count": null,
   "id": "center-tragedy",
   "metadata": {},
   "outputs": [],
   "source": [
    "@manipulate for i in 1:length(countries)\n",
    "    data[i, 1:15]\n",
    "end"
   ]
  },
  {
   "cell_type": "code",
   "execution_count": null,
   "id": "anticipated-picture",
   "metadata": {},
   "outputs": [],
   "source": [
    "# extract data and plot"
   ]
  },
  {
   "cell_type": "code",
   "execution_count": null,
   "id": "found-throat",
   "metadata": {},
   "outputs": [],
   "source": [
    "startswith(\"United\",\"U\")"
   ]
  },
  {
   "cell_type": "code",
   "execution_count": null,
   "id": "fundamental-latin",
   "metadata": {},
   "outputs": [],
   "source": [
    "startswith(\"David\",\"U\")"
   ]
  },
  {
   "cell_type": "code",
   "execution_count": null,
   "id": "hazardous-portrait",
   "metadata": {},
   "outputs": [],
   "source": [
    "# array comprehension"
   ]
  },
  {
   "cell_type": "code",
   "execution_count": null,
   "id": "spatial-north",
   "metadata": {},
   "outputs": [],
   "source": [
    "U_countries = [startswith(country,\"U\") for country in countries];"
   ]
  },
  {
   "cell_type": "code",
   "execution_count": null,
   "id": "alive-therapy",
   "metadata": {},
   "outputs": [],
   "source": [
    "data[U_countries, :]"
   ]
  },
  {
   "cell_type": "code",
   "execution_count": null,
   "id": "effective-shelter",
   "metadata": {},
   "outputs": [],
   "source": [
    "countries == \"US\""
   ]
  },
  {
   "cell_type": "markdown",
   "id": "compatible-opinion",
   "metadata": {},
   "source": [
    "'.' is \"broadcasting\": apply operation to each element of a vector"
   ]
  },
  {
   "cell_type": "code",
   "execution_count": null,
   "id": "consolidated-plasma",
   "metadata": {},
   "outputs": [],
   "source": [
    "countries .== \"US\""
   ]
  },
  {
   "cell_type": "code",
   "execution_count": null,
   "id": "artistic-current",
   "metadata": {},
   "outputs": [],
   "source": [
    "US_row = findfirst(countries .== \"US\")"
   ]
  },
  {
   "cell_type": "code",
   "execution_count": null,
   "id": "patent-might",
   "metadata": {},
   "outputs": [],
   "source": [
    "US_data_row = data[US_row, :]"
   ]
  },
  {
   "cell_type": "code",
   "execution_count": null,
   "id": "funded-microphone",
   "metadata": {},
   "outputs": [],
   "source": [
    "US_data = convert(Vector, US_data_row[5:end])"
   ]
  },
  {
   "cell_type": "code",
   "execution_count": null,
   "id": "prescription-granny",
   "metadata": {},
   "outputs": [],
   "source": [
    "plot(US_data)"
   ]
  },
  {
   "cell_type": "code",
   "execution_count": null,
   "id": "chief-gentleman",
   "metadata": {},
   "outputs": [],
   "source": [
    "col_names = names(data)"
   ]
  },
  {
   "cell_type": "code",
   "execution_count": null,
   "id": "ultimate-killer",
   "metadata": {},
   "outputs": [],
   "source": [
    "date_strings = String.(names(data))[5:end];\n",
    "# apply String function to each element"
   ]
  },
  {
   "cell_type": "code",
   "execution_count": null,
   "id": "alert-particular",
   "metadata": {},
   "outputs": [],
   "source": [
    "date_strings[1]"
   ]
  },
  {
   "cell_type": "code",
   "execution_count": null,
   "id": "focal-techno",
   "metadata": {},
   "outputs": [],
   "source": [
    "format = Dates.DateFormat(\"d/m/Y\")"
   ]
  },
  {
   "cell_type": "code",
   "execution_count": null,
   "id": "prospective-system",
   "metadata": {},
   "outputs": [],
   "source": [
    "parse(Date, date_strings[1], format)"
   ]
  },
  {
   "cell_type": "code",
   "execution_count": null,
   "id": "bacterial-eagle",
   "metadata": {},
   "outputs": [],
   "source": [
    "format = Dates.DateFormat(\"m/d/Y\")"
   ]
  },
  {
   "cell_type": "code",
   "execution_count": null,
   "id": "suspended-chuck",
   "metadata": {},
   "outputs": [],
   "source": [
    "parse(Date, date_strings[1], format) + Year(2000)"
   ]
  },
  {
   "cell_type": "code",
   "execution_count": null,
   "id": "disabled-negotiation",
   "metadata": {},
   "outputs": [],
   "source": [
    "dates = parse.(Date, date_strings, format) .+ Year(2000)"
   ]
  },
  {
   "cell_type": "code",
   "execution_count": null,
   "id": "spread-julian",
   "metadata": {},
   "outputs": [],
   "source": [
    "plot(dates, US_data, xticks=dates[1:50:end], xrotation=45, leg=:topleft, \n",
    "    label=\"US Data\", m=:o)\n",
    "\n",
    "xlabel!(\"data\")\n",
    "ylabel!(\"confirmed cases in USA\")\n",
    "title!(\"USA confirmed COVID-19 cases\")\n",
    "annotate!(20, US_data[end], text(\"USA\", :blue, :left))"
   ]
  },
  {
   "cell_type": "code",
   "execution_count": null,
   "id": "exposed-happening",
   "metadata": {},
   "outputs": [],
   "source": [
    "plot(dates, US_data, xticks=dates[1:50:end], xrotation=45, leg=:topleft, \n",
    "    label=\"US Data\", m=:o, yscale=:log10)\n",
    "\n",
    "xlabel!(\"data\")\n",
    "ylabel!(\"confirmed cases in USA\")\n",
    "title!(\"USA confirmed COVID-19 cases\")\n",
    "annotate!(20, US_data[end], text(\"USA\", :blue, :left))"
   ]
  },
  {
   "cell_type": "code",
   "execution_count": null,
   "id": "unknown-vatican",
   "metadata": {},
   "outputs": [],
   "source": [
    "function f(country)\n",
    "    return country * country\n",
    "end"
   ]
  },
  {
   "cell_type": "code",
   "execution_count": null,
   "id": "present-thumb",
   "metadata": {},
   "outputs": [],
   "source": [
    "f(\"USA\")"
   ]
  },
  {
   "cell_type": "markdown",
   "id": "focal-riding",
   "metadata": {},
   "source": [
    "### Simple model of infection\n",
    "Each individual infects $c$ new people each day.\n",
    "\n",
    "$I_{n+1} = I_n + (c I_n) = I_n(1 + c)$\n",
    "\n",
    "So\n",
    "\n",
    "$I_{n+1} = \\lambda I_n$, where $\\lambda := 1 + c$ -- growth rate\n",
    "\n",
    "and $I_0 = 1$"
   ]
  },
  {
   "cell_type": "code",
   "execution_count": null,
   "id": "decreased-roller",
   "metadata": {},
   "outputs": [],
   "source": [
    "I0 = 1"
   ]
  },
  {
   "cell_type": "code",
   "execution_count": null,
   "id": "specified-layout",
   "metadata": {},
   "outputs": [],
   "source": [
    "I_0 = 1"
   ]
  },
  {
   "cell_type": "code",
   "execution_count": null,
   "id": "featured-domestic",
   "metadata": {},
   "outputs": [],
   "source": [
    "I₀ = 1"
   ]
  },
  {
   "cell_type": "code",
   "execution_count": null,
   "id": "enormous-things",
   "metadata": {},
   "outputs": [],
   "source": [
    "c = 0.01"
   ]
  },
  {
   "cell_type": "code",
   "execution_count": null,
   "id": "physical-ukraine",
   "metadata": {},
   "outputs": [],
   "source": [
    "λ = 1 + c"
   ]
  },
  {
   "cell_type": "code",
   "execution_count": null,
   "id": "occupied-drain",
   "metadata": {},
   "outputs": [],
   "source": [
    "I_1 = λ * I_0"
   ]
  },
  {
   "cell_type": "code",
   "execution_count": null,
   "id": "modified-signature",
   "metadata": {},
   "outputs": [],
   "source": [
    "I_2 = λ * I_1"
   ]
  },
  {
   "cell_type": "code",
   "execution_count": null,
   "id": "interested-gasoline",
   "metadata": {},
   "outputs": [],
   "source": [
    "I_3 = λ * I_2"
   ]
  },
  {
   "cell_type": "code",
   "execution_count": null,
   "id": "virtual-tumor",
   "metadata": {},
   "outputs": [],
   "source": [
    "T = 10\n",
    "I = zeros(T)"
   ]
  },
  {
   "cell_type": "code",
   "execution_count": null,
   "id": "approved-journalism",
   "metadata": {},
   "outputs": [],
   "source": [
    "I"
   ]
  },
  {
   "cell_type": "code",
   "execution_count": null,
   "id": "proved-marina",
   "metadata": {},
   "outputs": [],
   "source": [
    "I[1]"
   ]
  },
  {
   "cell_type": "code",
   "execution_count": null,
   "id": "personal-monte",
   "metadata": {},
   "outputs": [],
   "source": [
    "I[1:2]"
   ]
  },
  {
   "cell_type": "code",
   "execution_count": null,
   "id": "parental-segment",
   "metadata": {},
   "outputs": [],
   "source": [
    "I = zeros(Int64, T)"
   ]
  },
  {
   "cell_type": "code",
   "execution_count": null,
   "id": "focal-conjunction",
   "metadata": {},
   "outputs": [],
   "source": [
    "I = zeros(T)"
   ]
  },
  {
   "cell_type": "code",
   "execution_count": null,
   "id": "anonymous-engineer",
   "metadata": {},
   "outputs": [],
   "source": [
    "I[1] = I_0"
   ]
  },
  {
   "cell_type": "code",
   "execution_count": null,
   "id": "exterior-andrew",
   "metadata": {},
   "outputs": [],
   "source": [
    "for n in 1:T-1\n",
    "    I[n+1] = λ * I[n]\n",
    "    @show n, I[n]\n",
    "end"
   ]
  },
  {
   "cell_type": "code",
   "execution_count": null,
   "id": "brutal-corps",
   "metadata": {},
   "outputs": [],
   "source": [
    "I"
   ]
  },
  {
   "cell_type": "code",
   "execution_count": null,
   "id": "american-times",
   "metadata": {},
   "outputs": [],
   "source": [
    "plot(I, m=:o, label=\"I[n]\", legend=:topleft)"
   ]
  },
  {
   "cell_type": "code",
   "execution_count": null,
   "id": "matched-cable",
   "metadata": {},
   "outputs": [],
   "source": [
    "T=20\n",
    "I = zeros(T)\n",
    "I[1] = I_0\n",
    "for n in 1:T-1\n",
    "    I[n+1] = λ * I[n]\n",
    "    @show n, I[n]\n",
    "end\n",
    "plot(I)"
   ]
  },
  {
   "cell_type": "code",
   "execution_count": null,
   "id": "dietary-ancient",
   "metadata": {},
   "outputs": [],
   "source": [
    "function run_infection(T=20)\n",
    "    I = zeros(T)\n",
    "    I[1] = I_0\n",
    "    for n in 1:T-1\n",
    "        I[n+1] = λ * I[n]\n",
    "    end\n",
    "    return I\n",
    "end"
   ]
  },
  {
   "cell_type": "code",
   "execution_count": null,
   "id": "charged-initial",
   "metadata": {},
   "outputs": [],
   "source": [
    "methods(run_infection)"
   ]
  },
  {
   "cell_type": "code",
   "execution_count": null,
   "id": "collected-montgomery",
   "metadata": {},
   "outputs": [],
   "source": [
    "run_infection(10)"
   ]
  },
  {
   "cell_type": "code",
   "execution_count": null,
   "id": "scientific-spell",
   "metadata": {},
   "outputs": [],
   "source": [
    "I_result = run_infection(10)"
   ]
  },
  {
   "cell_type": "code",
   "execution_count": null,
   "id": "numeric-confidentiality",
   "metadata": {},
   "outputs": [],
   "source": [
    "I_result = run_infection(20)\n",
    "\n",
    "plot(I_result, m=:o)"
   ]
  },
  {
   "cell_type": "code",
   "execution_count": null,
   "id": "human-concert",
   "metadata": {},
   "outputs": [],
   "source": [
    "end_T = 1000\n",
    "@manipulate for T in slider(1:end_T, value=1)\n",
    "    I_result = run_infection(T)\n",
    "    plot(I_result, m=:o)\n",
    "    xlims!(0, end_T)\n",
    "    ylims!(0, 10)\n",
    "end"
   ]
  },
  {
   "cell_type": "code",
   "execution_count": null,
   "id": "strange-nation",
   "metadata": {},
   "outputs": [],
   "source": [
    "# Modelling the recovery process using probability"
   ]
  },
  {
   "cell_type": "code",
   "execution_count": null,
   "id": "adverse-collection",
   "metadata": {},
   "outputs": [],
   "source": [
    "function run_infection(I_0, λ, T=20)\n",
    "    I = zeros(T)\n",
    "    I[1] = I_0\n",
    "    for n in 1:T-1\n",
    "        I[n+1] = λ * I[n]\n",
    "    end\n",
    "    return I\n",
    "end"
   ]
  },
  {
   "cell_type": "code",
   "execution_count": null,
   "id": "occupied-cargo",
   "metadata": {},
   "outputs": [],
   "source": [
    "run_infection(1.0,0.1);"
   ]
  },
  {
   "cell_type": "code",
   "execution_count": null,
   "id": "inside-detroit",
   "metadata": {},
   "outputs": [],
   "source": [
    "v = [1.0]"
   ]
  },
  {
   "cell_type": "code",
   "execution_count": null,
   "id": "laughing-january",
   "metadata": {},
   "outputs": [],
   "source": [
    "push!(v, 7.0)"
   ]
  },
  {
   "cell_type": "code",
   "execution_count": null,
   "id": "hungarian-roulette",
   "metadata": {},
   "outputs": [],
   "source": [
    "length(v)"
   ]
  },
  {
   "cell_type": "code",
   "execution_count": null,
   "id": "large-denver",
   "metadata": {},
   "outputs": [],
   "source": [
    "a=1\n",
    "\n",
    "v[3]"
   ]
  },
  {
   "cell_type": "code",
   "execution_count": null,
   "id": "atlantic-sport",
   "metadata": {},
   "outputs": [],
   "source": [
    "v"
   ]
  },
  {
   "cell_type": "code",
   "execution_count": null,
   "id": "quiet-navigator",
   "metadata": {},
   "outputs": [],
   "source": [
    "[v;10]"
   ]
  },
  {
   "cell_type": "code",
   "execution_count": null,
   "id": "ancient-lecture",
   "metadata": {},
   "outputs": [],
   "source": [
    "v"
   ]
  },
  {
   "cell_type": "code",
   "execution_count": null,
   "id": "august-packing",
   "metadata": {},
   "outputs": [],
   "source": [
    "v = [v;10]"
   ]
  },
  {
   "cell_type": "code",
   "execution_count": null,
   "id": "handy-tattoo",
   "metadata": {},
   "outputs": [],
   "source": [
    "v2 = copy(v)"
   ]
  },
  {
   "cell_type": "code",
   "execution_count": null,
   "id": "improved-screw",
   "metadata": {},
   "outputs": [],
   "source": [
    "function run_infection(I_0, λ, T=20)\n",
    "    Is = [I_0]\n",
    "    I = I_0\n",
    "    for n in 1:T-1\n",
    "        I_next = λ * I\n",
    "        push!(Is, I_next)\n",
    "    end\n",
    "    return Is\n",
    "end"
   ]
  },
  {
   "cell_type": "code",
   "execution_count": null,
   "id": "correct-hamilton",
   "metadata": {},
   "outputs": [],
   "source": [
    "run_infection(1.0,1.1)"
   ]
  },
  {
   "cell_type": "code",
   "execution_count": null,
   "id": "dirty-february",
   "metadata": {},
   "outputs": [],
   "source": [
    "function run_infection(I_0, λ, T=20) \n",
    "    Is = [I_0]\n",
    "    I = I_0\n",
    "    for n in 1:T-1\n",
    "        I_next = λ * I\n",
    "        push!(Is, I_next)\n",
    "        I = I_next\n",
    "    end\n",
    "    return Is\n",
    "end"
   ]
  },
  {
   "cell_type": "code",
   "execution_count": null,
   "id": "returning-heather",
   "metadata": {},
   "outputs": [],
   "source": [
    "run_infection(1.0,1.1)"
   ]
  },
  {
   "cell_type": "code",
   "execution_count": null,
   "id": "diverse-yesterday",
   "metadata": {},
   "outputs": [],
   "source": [
    "v"
   ]
  },
  {
   "cell_type": "code",
   "execution_count": null,
   "id": "informal-intellectual",
   "metadata": {},
   "outputs": [],
   "source": [
    "pushfirst!(v,8)"
   ]
  },
  {
   "cell_type": "code",
   "execution_count": null,
   "id": "careful-cable",
   "metadata": {},
   "outputs": [],
   "source": [
    "r = rand()"
   ]
  },
  {
   "cell_type": "code",
   "execution_count": null,
   "id": "balanced-karen",
   "metadata": {},
   "outputs": [],
   "source": [
    "r = rand()"
   ]
  },
  {
   "cell_type": "code",
   "execution_count": null,
   "id": "attached-mayor",
   "metadata": {},
   "outputs": [],
   "source": [
    "Random.seed!(3);"
   ]
  },
  {
   "cell_type": "code",
   "execution_count": null,
   "id": "finnish-screen",
   "metadata": {},
   "outputs": [],
   "source": [
    "r = rand()"
   ]
  },
  {
   "cell_type": "code",
   "execution_count": null,
   "id": "necessary-stevens",
   "metadata": {},
   "outputs": [],
   "source": [
    "r = rand()"
   ]
  },
  {
   "cell_type": "code",
   "execution_count": null,
   "id": "twelve-magazine",
   "metadata": {},
   "outputs": [],
   "source": [
    "Random.seed!(3);"
   ]
  },
  {
   "cell_type": "code",
   "execution_count": null,
   "id": "french-castle",
   "metadata": {},
   "outputs": [],
   "source": [
    "r = rand()"
   ]
  },
  {
   "cell_type": "code",
   "execution_count": null,
   "id": "collected-privacy",
   "metadata": {},
   "outputs": [],
   "source": [
    "r = rand()"
   ]
  },
  {
   "cell_type": "code",
   "execution_count": null,
   "id": "preceding-contrast",
   "metadata": {},
   "outputs": [],
   "source": [
    "rand(10)"
   ]
  },
  {
   "cell_type": "code",
   "execution_count": null,
   "id": "boring-behalf",
   "metadata": {},
   "outputs": [],
   "source": [
    "r = rand(50)"
   ]
  },
  {
   "cell_type": "code",
   "execution_count": null,
   "id": "endless-lodging",
   "metadata": {},
   "outputs": [],
   "source": [
    "scatter(r)"
   ]
  },
  {
   "cell_type": "code",
   "execution_count": null,
   "id": "portuguese-photograph",
   "metadata": {},
   "outputs": [],
   "source": [
    "one(0.5)"
   ]
  },
  {
   "cell_type": "code",
   "execution_count": null,
   "id": "congressional-compromise",
   "metadata": {},
   "outputs": [],
   "source": [
    "scatter(r,0.5 .* one.(r), ylim=(0,1))"
   ]
  },
  {
   "cell_type": "code",
   "execution_count": null,
   "id": "distinguished-experience",
   "metadata": {},
   "outputs": [],
   "source": [
    "num_points = 100\n",
    "r = rand(num_points)\n",
    "\n",
    "@manipulate for n in 1:num_points\n",
    "    scatter(r[1:n], 0.5 .* one.(r[1:n]), ylim=(0,1), xlim=(0,1))\n",
    "end"
   ]
  },
  {
   "cell_type": "code",
   "execution_count": null,
   "id": "noted-tobago",
   "metadata": {},
   "outputs": [],
   "source": [
    "# random walks"
   ]
  },
  {
   "cell_type": "code",
   "execution_count": null,
   "id": "static-vacuum",
   "metadata": {},
   "outputs": [],
   "source": [
    "jump() = rand((-1,+1))"
   ]
  },
  {
   "cell_type": "code",
   "execution_count": null,
   "id": "short-stretch",
   "metadata": {},
   "outputs": [],
   "source": [
    "function jump()\n",
    "    return rand((-1,+1))\n",
    "end"
   ]
  },
  {
   "cell_type": "code",
   "execution_count": null,
   "id": "deadly-columbus",
   "metadata": {},
   "outputs": [],
   "source": [
    "jump"
   ]
  },
  {
   "cell_type": "code",
   "execution_count": null,
   "id": "chief-panama",
   "metadata": {},
   "outputs": [],
   "source": [
    "jump()"
   ]
  },
  {
   "cell_type": "code",
   "execution_count": null,
   "id": "employed-lease",
   "metadata": {},
   "outputs": [],
   "source": [
    "rand([-1,+1])"
   ]
  },
  {
   "cell_type": "code",
   "execution_count": null,
   "id": "embedded-notion",
   "metadata": {},
   "outputs": [],
   "source": [
    "t = (-1,+1)"
   ]
  },
  {
   "cell_type": "code",
   "execution_count": null,
   "id": "international-experiment",
   "metadata": {},
   "outputs": [],
   "source": [
    "typeof(t)"
   ]
  },
  {
   "cell_type": "code",
   "execution_count": null,
   "id": "arabic-unemployment",
   "metadata": {},
   "outputs": [],
   "source": [
    "t[1] = 10"
   ]
  },
  {
   "cell_type": "code",
   "execution_count": null,
   "id": "inner-dressing",
   "metadata": {},
   "outputs": [],
   "source": [
    "bernoulli(p) = rand() < p"
   ]
  },
  {
   "cell_type": "code",
   "execution_count": null,
   "id": "pediatric-foundation",
   "metadata": {},
   "outputs": [],
   "source": [
    "bernoulli(0.25)"
   ]
  },
  {
   "cell_type": "code",
   "execution_count": null,
   "id": "perfect-actress",
   "metadata": {},
   "outputs": [],
   "source": [
    "jump()"
   ]
  },
  {
   "cell_type": "code",
   "execution_count": null,
   "id": "dying-thailand",
   "metadata": {},
   "outputs": [],
   "source": [
    "[jump() for i in 1:10]"
   ]
  },
  {
   "cell_type": "code",
   "execution_count": null,
   "id": "after-cedar",
   "metadata": {},
   "outputs": [],
   "source": [
    "function walk(n)\n",
    "    x=0\n",
    "    for i in 1:n\n",
    "        x += jump()\n",
    "    end\n",
    "    return x\n",
    "end"
   ]
  },
  {
   "cell_type": "code",
   "execution_count": null,
   "id": "technological-estate",
   "metadata": {},
   "outputs": [],
   "source": [
    "walk(10)"
   ]
  },
  {
   "cell_type": "code",
   "execution_count": null,
   "id": "completed-going",
   "metadata": {},
   "outputs": [],
   "source": [
    "function trajectory(n)\n",
    "    x=0\n",
    "    xs=[x]\n",
    "    for i in 1:n\n",
    "        x += jump()\n",
    "    end\n",
    "    return x\n",
    "end"
   ]
  },
  {
   "cell_type": "code",
   "execution_count": null,
   "id": "stylish-walnut",
   "metadata": {},
   "outputs": [],
   "source": [
    "v=[]"
   ]
  },
  {
   "cell_type": "code",
   "execution_count": null,
   "id": "plastic-benefit",
   "metadata": {},
   "outputs": [],
   "source": [
    "push!(v,10)"
   ]
  },
  {
   "cell_type": "code",
   "execution_count": null,
   "id": "electoral-frame",
   "metadata": {},
   "outputs": [],
   "source": [
    "v"
   ]
  },
  {
   "cell_type": "code",
   "execution_count": null,
   "id": "short-tamil",
   "metadata": {},
   "outputs": [],
   "source": [
    "push!(v, \"hellohellohellohellohellohello\", 20)"
   ]
  },
  {
   "cell_type": "code",
   "execution_count": null,
   "id": "absent-blast",
   "metadata": {},
   "outputs": [],
   "source": [
    "v=Int64[]"
   ]
  },
  {
   "cell_type": "code",
   "execution_count": null,
   "id": "lasting-asian",
   "metadata": {},
   "outputs": [],
   "source": [
    "push!(v,10)"
   ]
  },
  {
   "cell_type": "code",
   "execution_count": null,
   "id": "nominated-italy",
   "metadata": {},
   "outputs": [],
   "source": [
    "push!(v,\"hello\")"
   ]
  },
  {
   "cell_type": "code",
   "execution_count": null,
   "id": "connected-public",
   "metadata": {},
   "outputs": [],
   "source": [
    "function trajectory(n)\n",
    "    x=0\n",
    "    xs=[x]\n",
    "    for i in 1:n\n",
    "        x += jump()\n",
    "        push!(xs,x)\n",
    "    end\n",
    "    return xs\n",
    "end"
   ]
  },
  {
   "cell_type": "code",
   "execution_count": null,
   "id": "architectural-journey",
   "metadata": {},
   "outputs": [],
   "source": [
    "v=[10]"
   ]
  },
  {
   "cell_type": "code",
   "execution_count": null,
   "id": "included-module",
   "metadata": {},
   "outputs": [],
   "source": [
    "traj = trajectory(100);"
   ]
  },
  {
   "cell_type": "code",
   "execution_count": null,
   "id": "collect-rogers",
   "metadata": {},
   "outputs": [],
   "source": [
    "plot(traj)"
   ]
  },
  {
   "cell_type": "code",
   "execution_count": null,
   "id": "prepared-revolution",
   "metadata": {},
   "outputs": [],
   "source": [
    "traj = trajectory(100);\n",
    "plot(traj, m=:o)"
   ]
  },
  {
   "cell_type": "code",
   "execution_count": null,
   "id": "happy-armstrong",
   "metadata": {},
   "outputs": [],
   "source": [
    "traj = trajectory(100);\n",
    "plot(traj, m=:o)"
   ]
  },
  {
   "cell_type": "code",
   "execution_count": null,
   "id": "spoken-thong",
   "metadata": {},
   "outputs": [],
   "source": [
    "traj = trajectory(100);\n",
    "plot(traj, m=:o, size=(300,200))\n",
    "\n",
    "hline!([0], ls=:dash)"
   ]
  },
  {
   "cell_type": "code",
   "execution_count": null,
   "id": "hispanic-somalia",
   "metadata": {},
   "outputs": [],
   "source": [
    "num_walkers = 1000\n",
    "num_steps = 100\n",
    "\n",
    "p = plot(size=(500,400), leg=false)\n",
    "\n",
    "for i in 1:num_walkers\n",
    "    traj = trajectory(num_steps)\n",
    "    plot!(traj)\n",
    "end\n",
    "\n",
    "p"
   ]
  },
  {
   "cell_type": "code",
   "execution_count": null,
   "id": "caring-scenario",
   "metadata": {},
   "outputs": [],
   "source": [
    "@manipulate for n in 1:20\n",
    "    traj = trajectory(n)\n",
    "    plot(traj)\n",
    "end"
   ]
  },
  {
   "cell_type": "code",
   "execution_count": null,
   "id": "legitimate-adult",
   "metadata": {},
   "outputs": [],
   "source": [
    "function walk(num_steps)\n",
    "    x=0\n",
    "    for i in 1:num_steps\n",
    "        x += rand((-1,+1))\n",
    "    end\n",
    "    return x\n",
    "end"
   ]
  },
  {
   "cell_type": "code",
   "execution_count": null,
   "id": "wicked-population",
   "metadata": {},
   "outputs": [],
   "source": [
    "num_steps = 20\n",
    "walk(num_steps)"
   ]
  },
  {
   "cell_type": "code",
   "execution_count": null,
   "id": "miniature-workplace",
   "metadata": {},
   "outputs": [],
   "source": [
    "experiment(num_steps, num_walks) = [walk(num_steps) for i in 1:num_walks]"
   ]
  },
  {
   "cell_type": "code",
   "execution_count": null,
   "id": "rough-retailer",
   "metadata": {},
   "outputs": [],
   "source": [
    "data = experiment(20, 1000); data'"
   ]
  },
  {
   "cell_type": "code",
   "execution_count": null,
   "id": "eastern-utilization",
   "metadata": {},
   "outputs": [],
   "source": [
    "counts = countmap(data);"
   ]
  },
  {
   "cell_type": "code",
   "execution_count": null,
   "id": "supreme-advice",
   "metadata": {},
   "outputs": [],
   "source": [
    "histogram(data, bins=10)\n",
    "xlabel!(\"position x\")"
   ]
  },
  {
   "cell_type": "code",
   "execution_count": null,
   "id": "complete-sector",
   "metadata": {},
   "outputs": [],
   "source": [
    "h = fit(Histogram, data)"
   ]
  },
  {
   "cell_type": "code",
   "execution_count": null,
   "id": "certain-groove",
   "metadata": {},
   "outputs": [],
   "source": [
    "h.weights / sum(h.weights)"
   ]
  },
  {
   "cell_type": "code",
   "execution_count": null,
   "id": "miniature-optimum",
   "metadata": {},
   "outputs": [],
   "source": [
    "histogram(data, bins=30, normed=true)"
   ]
  },
  {
   "cell_type": "code",
   "execution_count": null,
   "id": "comprehensive-express",
   "metadata": {},
   "outputs": [],
   "source": [
    "data"
   ]
  },
  {
   "cell_type": "code",
   "execution_count": null,
   "id": "unnecessary-midnight",
   "metadata": {},
   "outputs": [],
   "source": [
    "mean(data)"
   ]
  },
  {
   "cell_type": "code",
   "execution_count": null,
   "id": "protected-january",
   "metadata": {},
   "outputs": [],
   "source": [
    "sum(data) / length(data)"
   ]
  },
  {
   "cell_type": "code",
   "execution_count": null,
   "id": "bibliographic-reminder",
   "metadata": {},
   "outputs": [],
   "source": [
    "histogram(data, normed=true, bins=30)"
   ]
  },
  {
   "cell_type": "code",
   "execution_count": null,
   "id": "chinese-macintosh",
   "metadata": {},
   "outputs": [],
   "source": [
    "vline!([mean(data)], lw=3, ls=:dash, leg=false, c=:purple)"
   ]
  },
  {
   "cell_type": "code",
   "execution_count": null,
   "id": "original-emperor",
   "metadata": {},
   "outputs": [],
   "source": [
    "scatter(data)\n",
    "\n",
    "hline!([mean(data)], lw=3, ls=:dash, c=:purple)"
   ]
  },
  {
   "cell_type": "code",
   "execution_count": null,
   "id": "mounted-feature",
   "metadata": {},
   "outputs": [],
   "source": [
    "m = mean(data)\n",
    "centred_data = data .- m;"
   ]
  },
  {
   "cell_type": "code",
   "execution_count": null,
   "id": "magnetic-panic",
   "metadata": {},
   "outputs": [],
   "source": [
    "scatter(centred_data)\n",
    "\n",
    "hline!([mean(centred_data)], lw=3, ls=:dash, c=:purple)"
   ]
  },
  {
   "cell_type": "code",
   "execution_count": null,
   "id": "recreational-tribune",
   "metadata": {},
   "outputs": [],
   "source": [
    "mean(centred_data)"
   ]
  },
  {
   "cell_type": "code",
   "execution_count": null,
   "id": "minimal-scope",
   "metadata": {},
   "outputs": [],
   "source": [
    "nextfloat(1.0)"
   ]
  },
  {
   "cell_type": "code",
   "execution_count": null,
   "id": "modular-difference",
   "metadata": {},
   "outputs": [],
   "source": [
    "nextfloat(1.0) - 1.0"
   ]
  },
  {
   "cell_type": "code",
   "execution_count": null,
   "id": "pretty-kingdom",
   "metadata": {},
   "outputs": [],
   "source": [
    "abs_data = abs.(centred_data)"
   ]
  },
  {
   "cell_type": "code",
   "execution_count": null,
   "id": "interesting-ivory",
   "metadata": {},
   "outputs": [],
   "source": [
    "scatter(abs_data)"
   ]
  },
  {
   "cell_type": "code",
   "execution_count": null,
   "id": "committed-tension",
   "metadata": {},
   "outputs": [],
   "source": [
    "mean(abs_data)"
   ]
  },
  {
   "cell_type": "code",
   "execution_count": null,
   "id": "palestinian-singapore",
   "metadata": {},
   "outputs": [],
   "source": [
    "scatter(abs_data, alpha=0.2)\n",
    "\n",
    "hline!([mean(abs_data)], lw=3, ls=:dash, c=:purple)"
   ]
  },
  {
   "cell_type": "code",
   "execution_count": null,
   "id": "sonic-class",
   "metadata": {},
   "outputs": [],
   "source": [
    "m = mean(abs_data)\n",
    "\n",
    "count(abs_data .< m) / length(abs_data)"
   ]
  },
  {
   "cell_type": "code",
   "execution_count": null,
   "id": "artistic-attachment",
   "metadata": {},
   "outputs": [],
   "source": [
    "count(abs_data .< 2m) / length(abs_data)"
   ]
  },
  {
   "cell_type": "code",
   "execution_count": null,
   "id": "civic-feeling",
   "metadata": {},
   "outputs": [],
   "source": [
    "scatter(abs_data, alpha=0.2)\n",
    "\n",
    "hline!([2*mean(abs_data)], lw=3, ls=:dash, c=:purple)"
   ]
  },
  {
   "cell_type": "code",
   "execution_count": null,
   "id": "rocky-armenia",
   "metadata": {},
   "outputs": [],
   "source": [
    "squared_data = data.^2"
   ]
  },
  {
   "cell_type": "code",
   "execution_count": null,
   "id": "variable-warner",
   "metadata": {},
   "outputs": [],
   "source": [
    "scatter(squared_data, alpha=0.2)"
   ]
  },
  {
   "cell_type": "code",
   "execution_count": null,
   "id": "quiet-posting",
   "metadata": {},
   "outputs": [],
   "source": [
    "@time data = experiment(50, 10^6)"
   ]
  },
  {
   "cell_type": "code",
   "execution_count": null,
   "id": "encouraging-maker",
   "metadata": {},
   "outputs": [],
   "source": [
    "m = mean(data)\n",
    "\n",
    "v = mean((data .- m).^2)\n",
    "\n",
    "σ = √(v)"
   ]
  },
  {
   "cell_type": "code",
   "execution_count": null,
   "id": "interpreted-breed",
   "metadata": {},
   "outputs": [],
   "source": [
    "[(m - σ) < x < (m + σ) for x in data];"
   ]
  },
  {
   "cell_type": "code",
   "execution_count": null,
   "id": "resident-victorian",
   "metadata": {},
   "outputs": [],
   "source": [
    "count((m - σ) .< data .< (m + σ)) / length(data)"
   ]
  },
  {
   "cell_type": "code",
   "execution_count": null,
   "id": "fifty-silly",
   "metadata": {},
   "outputs": [],
   "source": [
    "data2 = data[1:5000];"
   ]
  },
  {
   "cell_type": "code",
   "execution_count": null,
   "id": "connected-orlando",
   "metadata": {},
   "outputs": [],
   "source": [
    "scatter(data2, alpha=0.2)"
   ]
  },
  {
   "cell_type": "code",
   "execution_count": null,
   "id": "surgical-wildlife",
   "metadata": {},
   "outputs": [],
   "source": [
    "hline!([m, m+σ, m-σ], lw=3, ls=:dash, leg=false)"
   ]
  },
  {
   "cell_type": "code",
   "execution_count": null,
   "id": "resident-attack",
   "metadata": {},
   "outputs": [],
   "source": [
    "hline!([m, m+2σ, m-2σ], lw=3, ls=:dash, leg=false)"
   ]
  },
  {
   "cell_type": "code",
   "execution_count": null,
   "id": "ultimate-trunk",
   "metadata": {},
   "outputs": [],
   "source": [
    "count((m-2σ) .< data .< (m+2σ)) / length(data)"
   ]
  },
  {
   "cell_type": "code",
   "execution_count": null,
   "id": "everyday-ethnic",
   "metadata": {},
   "outputs": [],
   "source": [
    "num_steps = 20; N = 100;\n",
    "data = experiment(num_steps, N)\n",
    "m = mean(data)"
   ]
  },
  {
   "cell_type": "code",
   "execution_count": null,
   "id": "registered-senator",
   "metadata": {},
   "outputs": [],
   "source": [
    "num_steps = 20; N = 1000;\n",
    "data = experiment(num_steps, N)\n",
    "m = mean(data)"
   ]
  },
  {
   "cell_type": "code",
   "execution_count": null,
   "id": "bulgarian-authority",
   "metadata": {},
   "outputs": [],
   "source": [
    "σ = std(data)"
   ]
  },
  {
   "cell_type": "code",
   "execution_count": null,
   "id": "contained-cursor",
   "metadata": {},
   "outputs": [],
   "source": [
    "standard_error_of_mean = σ / √N"
   ]
  },
  {
   "cell_type": "code",
   "execution_count": null,
   "id": "parliamentary-survivor",
   "metadata": {},
   "outputs": [],
   "source": [
    "mean_data = [mean(experiment(num_steps, N)) for i in 1:1000];"
   ]
  },
  {
   "cell_type": "code",
   "execution_count": null,
   "id": "checked-accreditation",
   "metadata": {},
   "outputs": [],
   "source": [
    "std(mean_data)"
   ]
  },
  {
   "cell_type": "code",
   "execution_count": null,
   "id": "corporate-practitioner",
   "metadata": {},
   "outputs": [],
   "source": [
    "mean_data = [mean(experiment(num_steps, 4N)) for i in 1:1000];"
   ]
  },
  {
   "cell_type": "code",
   "execution_count": null,
   "id": "alpha-sheet",
   "metadata": {},
   "outputs": [],
   "source": [
    "std(mean_data)"
   ]
  },
  {
   "cell_type": "code",
   "execution_count": null,
   "id": "distant-marine",
   "metadata": {},
   "outputs": [],
   "source": [
    "histogram(mean_data)"
   ]
  },
  {
   "cell_type": "code",
   "execution_count": null,
   "id": "caroline-conversation",
   "metadata": {},
   "outputs": [],
   "source": [
    "x=0\n",
    "x+=1\n",
    "x2=0\n",
    "x2-=1\n",
    "y=0.0\n",
    "y+=randn()"
   ]
  },
  {
   "cell_type": "code",
   "execution_count": null,
   "id": "celtic-mauritius",
   "metadata": {},
   "outputs": [],
   "source": [
    "histogram(randn(1000))"
   ]
  },
  {
   "cell_type": "code",
   "execution_count": null,
   "id": "serial-election",
   "metadata": {},
   "outputs": [],
   "source": [
    "discrete_jump() = rand((-1,+1))\n",
    "continuous_jump() = randn()"
   ]
  },
  {
   "cell_type": "code",
   "execution_count": null,
   "id": "formal-challenge",
   "metadata": {},
   "outputs": [],
   "source": [
    "function walk(N)\n",
    "    x=0\n",
    "    for i in 1:N\n",
    "        x += jump()\n",
    "    end\n",
    "    return x\n",
    "end"
   ]
  },
  {
   "cell_type": "code",
   "execution_count": null,
   "id": "dental-method",
   "metadata": {},
   "outputs": [],
   "source": [
    "function walk(N, jump)\n",
    "    x=0\n",
    "    for i in 1:N\n",
    "        x += jump()\n",
    "    end\n",
    "    return x\n",
    "end"
   ]
  },
  {
   "cell_type": "code",
   "execution_count": null,
   "id": "native-consultancy",
   "metadata": {},
   "outputs": [],
   "source": [
    "walk(20, discrete_jump)"
   ]
  },
  {
   "cell_type": "code",
   "execution_count": null,
   "id": "multiple-mention",
   "metadata": {},
   "outputs": [],
   "source": [
    "@btime walk(20, discrete_jump)"
   ]
  },
  {
   "cell_type": "code",
   "execution_count": null,
   "id": "narrative-criminal",
   "metadata": {},
   "outputs": [],
   "source": [
    "walk(20, continuous_jump)"
   ]
  },
  {
   "cell_type": "code",
   "execution_count": null,
   "id": "prescription-above",
   "metadata": {},
   "outputs": [],
   "source": [
    "@btime walk(20, continuous_jump)"
   ]
  },
  {
   "cell_type": "code",
   "execution_count": null,
   "id": "first-claim",
   "metadata": {},
   "outputs": [],
   "source": [
    "function walk(N, jump, x0)\n",
    "    x=x0\n",
    "    for i in 1:N\n",
    "        x += jump()\n",
    "    end\n",
    "    return x\n",
    "end"
   ]
  },
  {
   "cell_type": "code",
   "execution_count": null,
   "id": "numerical-activation",
   "metadata": {},
   "outputs": [],
   "source": [
    "walk(20, continuous_jump, 0.0)"
   ]
  },
  {
   "cell_type": "code",
   "execution_count": null,
   "id": "federal-isolation",
   "metadata": {},
   "outputs": [],
   "source": [
    "struct MyDiscreteRandomWalker\n",
    "    x::Int\n",
    "end"
   ]
  },
  {
   "cell_type": "code",
   "execution_count": null,
   "id": "round-bloom",
   "metadata": {},
   "outputs": [],
   "source": [
    "MyDiscreteRandomWalker"
   ]
  },
  {
   "cell_type": "code",
   "execution_count": null,
   "id": "narrow-scotland",
   "metadata": {},
   "outputs": [],
   "source": [
    "w = MyDiscreteRandomWalker(10)"
   ]
  },
  {
   "cell_type": "code",
   "execution_count": null,
   "id": "compliant-title",
   "metadata": {},
   "outputs": [],
   "source": [
    "w"
   ]
  },
  {
   "cell_type": "code",
   "execution_count": null,
   "id": "italic-remedy",
   "metadata": {},
   "outputs": [],
   "source": [
    "w.x"
   ]
  },
  {
   "cell_type": "code",
   "execution_count": null,
   "id": "subsequent-homeless",
   "metadata": {},
   "outputs": [],
   "source": [
    "w.x+=1"
   ]
  },
  {
   "cell_type": "code",
   "execution_count": null,
   "id": "forward-chester",
   "metadata": {},
   "outputs": [],
   "source": [
    "mutable struct MyDiscreteRandomWalker2\n",
    "    x::Int\n",
    "end"
   ]
  },
  {
   "cell_type": "code",
   "execution_count": null,
   "id": "august-memphis",
   "metadata": {},
   "outputs": [],
   "source": [
    "w = MyDiscreteRandomWalker2(10)"
   ]
  },
  {
   "cell_type": "code",
   "execution_count": null,
   "id": "altered-diagnosis",
   "metadata": {},
   "outputs": [],
   "source": [
    "w.x+=1"
   ]
  },
  {
   "cell_type": "code",
   "execution_count": null,
   "id": "engaging-comparative",
   "metadata": {},
   "outputs": [],
   "source": [
    "jump!(w::MyDiscreteRandomWalker2) = w.x += rand((-1,+1))"
   ]
  },
  {
   "cell_type": "code",
   "execution_count": null,
   "id": "comparable-handbook",
   "metadata": {},
   "outputs": [],
   "source": [
    "function jump!(w::MyDiscreteRandomWalker2)\n",
    "    w.x+=rand((-1,+1))\n",
    "    return w\n",
    "end"
   ]
  },
  {
   "cell_type": "code",
   "execution_count": null,
   "id": "bridal-candle",
   "metadata": {},
   "outputs": [],
   "source": [
    "w"
   ]
  },
  {
   "cell_type": "code",
   "execution_count": null,
   "id": "secure-recording",
   "metadata": {},
   "outputs": [],
   "source": [
    "jump!(w)"
   ]
  },
  {
   "cell_type": "code",
   "execution_count": null,
   "id": "mounted-machine",
   "metadata": {},
   "outputs": [],
   "source": [
    "w"
   ]
  },
  {
   "cell_type": "code",
   "execution_count": null,
   "id": "aboriginal-slave",
   "metadata": {},
   "outputs": [],
   "source": [
    "function walk!(w::MyDiscreteRandomWalker2, N)\n",
    "    for i in 1:N\n",
    "        jump!(w)\n",
    "    end\n",
    "end"
   ]
  },
  {
   "cell_type": "code",
   "execution_count": null,
   "id": "suffering-remainder",
   "metadata": {},
   "outputs": [],
   "source": [
    "w"
   ]
  },
  {
   "cell_type": "code",
   "execution_count": null,
   "id": "uniform-shanghai",
   "metadata": {},
   "outputs": [],
   "source": [
    "w = MyDiscreteRandomWalker2(0)"
   ]
  },
  {
   "cell_type": "code",
   "execution_count": null,
   "id": "fifth-subscriber",
   "metadata": {},
   "outputs": [],
   "source": [
    "MyDiscreteRandomWalker2() = MyDiscreteRandomWalker2(0)"
   ]
  },
  {
   "cell_type": "code",
   "execution_count": null,
   "id": "passive-collins",
   "metadata": {},
   "outputs": [],
   "source": [
    "methods(MyDiscreteRandomWalker2)"
   ]
  },
  {
   "cell_type": "code",
   "execution_count": null,
   "id": "unusual-great",
   "metadata": {},
   "outputs": [],
   "source": [
    "w = MyDiscreteRandomWalker2()"
   ]
  },
  {
   "cell_type": "code",
   "execution_count": null,
   "id": "synthetic-solution",
   "metadata": {},
   "outputs": [],
   "source": [
    "w2 = MyDiscreteRandomWalker2()"
   ]
  },
  {
   "cell_type": "code",
   "execution_count": null,
   "id": "respected-basics",
   "metadata": {},
   "outputs": [],
   "source": [
    "walk!(w,1)"
   ]
  },
  {
   "cell_type": "code",
   "execution_count": null,
   "id": "perceived-circle",
   "metadata": {},
   "outputs": [],
   "source": [
    "w"
   ]
  },
  {
   "cell_type": "code",
   "execution_count": null,
   "id": "dirty-aside",
   "metadata": {},
   "outputs": [],
   "source": [
    "w2"
   ]
  },
  {
   "cell_type": "code",
   "execution_count": null,
   "id": "fundamental-muslim",
   "metadata": {},
   "outputs": [],
   "source": [
    "w.x"
   ]
  },
  {
   "cell_type": "code",
   "execution_count": null,
   "id": "simplified-weather",
   "metadata": {},
   "outputs": [],
   "source": [
    "w2.x"
   ]
  },
  {
   "cell_type": "code",
   "execution_count": null,
   "id": "noticed-celebrity",
   "metadata": {},
   "outputs": [],
   "source": [
    "mutable struct MyDiscreteWalker\n",
    "    x::Int64\n",
    "end"
   ]
  },
  {
   "cell_type": "code",
   "execution_count": null,
   "id": "norwegian-manchester",
   "metadata": {},
   "outputs": [],
   "source": [
    "mutable struct SomethingElse\n",
    "    x::Int64\n",
    "    y::Float64\n",
    "    name::String\n",
    "end"
   ]
  },
  {
   "cell_type": "code",
   "execution_count": null,
   "id": "bacterial-combat",
   "metadata": {},
   "outputs": [],
   "source": [
    "MyDiscreteWalker"
   ]
  },
  {
   "cell_type": "code",
   "execution_count": null,
   "id": "scientific-dispatch",
   "metadata": {},
   "outputs": [],
   "source": [
    "methods(MyDiscreteWalker)"
   ]
  },
  {
   "cell_type": "code",
   "execution_count": null,
   "id": "cleared-running",
   "metadata": {},
   "outputs": [],
   "source": [
    "w = MyDiscreteWalker(3)"
   ]
  },
  {
   "cell_type": "code",
   "execution_count": null,
   "id": "worldwide-clear",
   "metadata": {},
   "outputs": [],
   "source": [
    "typeof(w)"
   ]
  },
  {
   "cell_type": "code",
   "execution_count": null,
   "id": "grave-schema",
   "metadata": {},
   "outputs": [],
   "source": [
    "Complex(3,4)"
   ]
  },
  {
   "cell_type": "code",
   "execution_count": null,
   "id": "israeli-founder",
   "metadata": {},
   "outputs": [],
   "source": [
    "3 + 4im"
   ]
  },
  {
   "cell_type": "code",
   "execution_count": null,
   "id": "distinguished-particular",
   "metadata": {},
   "outputs": [],
   "source": [
    "@which Complex(3,4)"
   ]
  },
  {
   "cell_type": "code",
   "execution_count": null,
   "id": "discrete-macintosh",
   "metadata": {},
   "outputs": [],
   "source": [
    "w"
   ]
  },
  {
   "cell_type": "code",
   "execution_count": null,
   "id": "exclusive-nickel",
   "metadata": {},
   "outputs": [],
   "source": [
    "w isa MyDiscreteWalker"
   ]
  },
  {
   "cell_type": "code",
   "execution_count": null,
   "id": "brazilian-tactics",
   "metadata": {},
   "outputs": [],
   "source": [
    "methods(MyDiscreteWalker)"
   ]
  },
  {
   "cell_type": "code",
   "execution_count": null,
   "id": "nutritional-czech",
   "metadata": {},
   "outputs": [],
   "source": [
    "Any"
   ]
  },
  {
   "cell_type": "code",
   "execution_count": null,
   "id": "julian-shannon",
   "metadata": {},
   "outputs": [],
   "source": [
    "3.0 isa Int64"
   ]
  },
  {
   "cell_type": "code",
   "execution_count": null,
   "id": "matched-horse",
   "metadata": {},
   "outputs": [],
   "source": [
    "typeof(3.0)"
   ]
  },
  {
   "cell_type": "code",
   "execution_count": null,
   "id": "focal-flesh",
   "metadata": {},
   "outputs": [],
   "source": [
    "MyDiscreteWalker(3.0)"
   ]
  },
  {
   "cell_type": "code",
   "execution_count": null,
   "id": "legislative-constitution",
   "metadata": {},
   "outputs": [],
   "source": [
    "MyDiscreteWalker(3.1)"
   ]
  },
  {
   "cell_type": "code",
   "execution_count": null,
   "id": "sunset-bikini",
   "metadata": {},
   "outputs": [],
   "source": [
    "Int64(3.0)"
   ]
  },
  {
   "cell_type": "code",
   "execution_count": null,
   "id": "simplified-extra",
   "metadata": {},
   "outputs": [],
   "source": [
    "Int64(3.1)"
   ]
  },
  {
   "cell_type": "code",
   "execution_count": null,
   "id": "spread-theorem",
   "metadata": {},
   "outputs": [],
   "source": [
    "trunc(Int64, 3.1)"
   ]
  },
  {
   "cell_type": "code",
   "execution_count": null,
   "id": "lonely-laser",
   "metadata": {},
   "outputs": [],
   "source": [
    "floor(Int64, 3.1)"
   ]
  },
  {
   "cell_type": "code",
   "execution_count": null,
   "id": "beginning-centre",
   "metadata": {},
   "outputs": [],
   "source": [
    "floor(3.1)"
   ]
  },
  {
   "cell_type": "code",
   "execution_count": null,
   "id": "infectious-result",
   "metadata": {},
   "outputs": [],
   "source": [
    "Int64(floor(3.1))"
   ]
  },
  {
   "cell_type": "code",
   "execution_count": null,
   "id": "addressed-moldova",
   "metadata": {},
   "outputs": [],
   "source": [
    "w = MyDiscreteWalker(3)"
   ]
  },
  {
   "cell_type": "code",
   "execution_count": null,
   "id": "continuing-tonight",
   "metadata": {},
   "outputs": [],
   "source": [
    "w"
   ]
  },
  {
   "cell_type": "code",
   "execution_count": null,
   "id": "beginning-indie",
   "metadata": {},
   "outputs": [],
   "source": [
    "mutable struct Agent\n",
    "    infection_status::Int\n",
    "    num_infected::Int\n",
    "end"
   ]
  },
  {
   "cell_type": "code",
   "execution_count": null,
   "id": "faced-marsh",
   "metadata": {},
   "outputs": [],
   "source": [
    "w = MyDiscreteWalker(3)"
   ]
  },
  {
   "cell_type": "code",
   "execution_count": null,
   "id": "minimal-genome",
   "metadata": {},
   "outputs": [],
   "source": [
    "struct ExampleImmutable\n",
    "    x::Int\n",
    "    y::Int\n",
    "end"
   ]
  },
  {
   "cell_type": "code",
   "execution_count": null,
   "id": "bored-viking",
   "metadata": {},
   "outputs": [],
   "source": [
    "z = ExampleImmutable()"
   ]
  },
  {
   "cell_type": "code",
   "execution_count": null,
   "id": "sticky-american",
   "metadata": {},
   "outputs": [],
   "source": [
    "convert(Int64, 3.0)"
   ]
  },
  {
   "cell_type": "code",
   "execution_count": null,
   "id": "downtown-spanking",
   "metadata": {},
   "outputs": [],
   "source": [
    "convert(Int64, 3.1)"
   ]
  },
  {
   "cell_type": "code",
   "execution_count": null,
   "id": "short-class",
   "metadata": {},
   "outputs": [],
   "source": [
    "Int64(3.0)"
   ]
  },
  {
   "cell_type": "code",
   "execution_count": null,
   "id": "stopped-benchmark",
   "metadata": {},
   "outputs": [],
   "source": [
    "@which Int64(3.0)"
   ]
  },
  {
   "cell_type": "code",
   "execution_count": null,
   "id": "residential-lawyer",
   "metadata": {},
   "outputs": [],
   "source": [
    "methods(Int64)"
   ]
  },
  {
   "cell_type": "code",
   "execution_count": null,
   "id": "general-canadian",
   "metadata": {},
   "outputs": [],
   "source": [
    "@which convert(Int64, 3.1)"
   ]
  },
  {
   "cell_type": "code",
   "execution_count": null,
   "id": "documented-prototype",
   "metadata": {},
   "outputs": [],
   "source": [
    "z = ExampleImmutable(1,2)"
   ]
  },
  {
   "cell_type": "code",
   "execution_count": null,
   "id": "chubby-strike",
   "metadata": {},
   "outputs": [],
   "source": [
    "z.x"
   ]
  },
  {
   "cell_type": "code",
   "execution_count": null,
   "id": "electrical-conclusion",
   "metadata": {},
   "outputs": [],
   "source": [
    "z.y"
   ]
  },
  {
   "cell_type": "code",
   "execution_count": null,
   "id": "guilty-seven",
   "metadata": {},
   "outputs": [],
   "source": [
    "z.x=10"
   ]
  },
  {
   "cell_type": "code",
   "execution_count": null,
   "id": "fitting-afternoon",
   "metadata": {},
   "outputs": [],
   "source": [
    "z.y=10"
   ]
  },
  {
   "cell_type": "code",
   "execution_count": null,
   "id": "broad-duncan",
   "metadata": {},
   "outputs": [],
   "source": [
    "w = MyDiscreteWalker(3)"
   ]
  },
  {
   "cell_type": "code",
   "execution_count": null,
   "id": "moral-permit",
   "metadata": {},
   "outputs": [],
   "source": [
    "MyDiscreteWalker()"
   ]
  },
  {
   "cell_type": "code",
   "execution_count": null,
   "id": "greenhouse-purple",
   "metadata": {},
   "outputs": [],
   "source": [
    "methods(MyDiscreteWalker)"
   ]
  },
  {
   "cell_type": "code",
   "execution_count": null,
   "id": "complimentary-ocean",
   "metadata": {},
   "outputs": [],
   "source": [
    "MyDiscreteWalker() = MyDiscreteWalker(0)\n",
    "# outer constructor (lives outside definition of type)"
   ]
  },
  {
   "cell_type": "code",
   "execution_count": null,
   "id": "abroad-ghana",
   "metadata": {},
   "outputs": [],
   "source": [
    "methods(MyDiscreteWalker)"
   ]
  },
  {
   "cell_type": "code",
   "execution_count": null,
   "id": "assigned-diabetes",
   "metadata": {},
   "outputs": [],
   "source": [
    "w = MyDiscreteWalker()"
   ]
  },
  {
   "cell_type": "code",
   "execution_count": null,
   "id": "tracked-compound",
   "metadata": {},
   "outputs": [],
   "source": [
    "function jump!(w::MyDiscreteWalker)\n",
    "    w.x += rand((-1,+1))\n",
    "end"
   ]
  },
  {
   "cell_type": "code",
   "execution_count": null,
   "id": "natural-norway",
   "metadata": {},
   "outputs": [],
   "source": [
    "pos(w::MyDiscreteWalker) = w.x"
   ]
  },
  {
   "cell_type": "code",
   "execution_count": null,
   "id": "bizarre-editing",
   "metadata": {},
   "outputs": [],
   "source": [
    "w.x"
   ]
  },
  {
   "cell_type": "code",
   "execution_count": null,
   "id": "colonial-plaintiff",
   "metadata": {},
   "outputs": [],
   "source": [
    "propertynames(x)"
   ]
  },
  {
   "cell_type": "code",
   "execution_count": null,
   "id": "blind-needle",
   "metadata": {},
   "outputs": [],
   "source": [
    "propertynames(w)"
   ]
  },
  {
   "cell_type": "code",
   "execution_count": null,
   "id": "electric-extra",
   "metadata": {},
   "outputs": [],
   "source": [
    "propertynames(y)"
   ]
  },
  {
   "cell_type": "code",
   "execution_count": null,
   "id": "figured-beaver",
   "metadata": {},
   "outputs": [],
   "source": [
    "propertynames(z)"
   ]
  },
  {
   "cell_type": "code",
   "execution_count": null,
   "id": "stopped-designer",
   "metadata": {},
   "outputs": [],
   "source": [
    "pos(w)"
   ]
  },
  {
   "cell_type": "code",
   "execution_count": null,
   "id": "greater-apache",
   "metadata": {},
   "outputs": [],
   "source": [
    "function set_pos!(w,x)\n",
    "    w.x=x\n",
    "end"
   ]
  },
  {
   "cell_type": "code",
   "execution_count": null,
   "id": "welcome-petite",
   "metadata": {},
   "outputs": [],
   "source": [
    "jump(MyDiscreteWalker) = rand((-1,+1))"
   ]
  },
  {
   "cell_type": "code",
   "execution_count": null,
   "id": "satellite-sport",
   "metadata": {},
   "outputs": [],
   "source": [
    "function jump!(w::MyDiscreteWalker)\n",
    "    old_pos = pos(w)\n",
    "    set_pos!(old_pos + jump(w))\n",
    "end"
   ]
  },
  {
   "cell_type": "code",
   "execution_count": null,
   "id": "spoken-boundary",
   "metadata": {},
   "outputs": [],
   "source": [
    "function walk!(w::MyDiscreteWalker, N)\n",
    "    for i in 1:N\n",
    "        jump!(w)\n",
    "    end\n",
    "    return w\n",
    "end"
   ]
  },
  {
   "cell_type": "code",
   "execution_count": null,
   "id": "legendary-course",
   "metadata": {},
   "outputs": [],
   "source": [
    "w"
   ]
  },
  {
   "cell_type": "code",
   "execution_count": null,
   "id": "neural-blade",
   "metadata": {},
   "outputs": [],
   "source": [
    "walk!(10)"
   ]
  },
  {
   "cell_type": "code",
   "execution_count": null,
   "id": "greek-underground",
   "metadata": {},
   "outputs": [],
   "source": [
    "walk!"
   ]
  },
  {
   "cell_type": "code",
   "execution_count": null,
   "id": "genuine-nancy",
   "metadata": {},
   "outputs": [],
   "source": [
    "methods(walk!)"
   ]
  },
  {
   "cell_type": "code",
   "execution_count": null,
   "id": "religious-knowing",
   "metadata": {},
   "outputs": [],
   "source": [
    "aweirdfunction(10)"
   ]
  },
  {
   "cell_type": "code",
   "execution_count": null,
   "id": "dental-stadium",
   "metadata": {},
   "outputs": [],
   "source": [
    "walk!(w,10)"
   ]
  },
  {
   "cell_type": "code",
   "execution_count": null,
   "id": "developed-reviewer",
   "metadata": {},
   "outputs": [],
   "source": [
    "w"
   ]
  },
  {
   "cell_type": "code",
   "execution_count": null,
   "id": "confident-nirvana",
   "metadata": {},
   "outputs": [],
   "source": [
    "mutable struct MyContinuousWalker\n",
    "    y::Float64\n",
    "end"
   ]
  },
  {
   "cell_type": "code",
   "execution_count": null,
   "id": "proper-magazine",
   "metadata": {},
   "outputs": [],
   "source": [
    "w = MyContinuousWalker(3)"
   ]
  },
  {
   "cell_type": "code",
   "execution_count": null,
   "id": "colonial-coffee",
   "metadata": {},
   "outputs": [],
   "source": [
    "w isa MyContinuousWalker"
   ]
  },
  {
   "cell_type": "code",
   "execution_count": null,
   "id": "romance-census",
   "metadata": {},
   "outputs": [],
   "source": [
    "jump!(w)"
   ]
  },
  {
   "cell_type": "code",
   "execution_count": null,
   "id": "false-omaha",
   "metadata": {},
   "outputs": [],
   "source": [
    "methods(jump!)"
   ]
  },
  {
   "cell_type": "code",
   "execution_count": null,
   "id": "senior-investigation",
   "metadata": {},
   "outputs": [],
   "source": [
    "jump(w::MyContinuousWalker) = randn()"
   ]
  },
  {
   "cell_type": "code",
   "execution_count": null,
   "id": "balanced-bankruptcy",
   "metadata": {},
   "outputs": [],
   "source": [
    "jump!(w::MyContinuousWalker)"
   ]
  },
  {
   "cell_type": "code",
   "execution_count": null,
   "id": "sunset-stranger",
   "metadata": {},
   "outputs": [],
   "source": [
    "methods(jump!)"
   ]
  },
  {
   "cell_type": "code",
   "execution_count": null,
   "id": "continuous-blair",
   "metadata": {},
   "outputs": [],
   "source": [
    "function jump!(w)\n",
    "    old_pos = pos(w)\n",
    "    set_pos!(w, old_pos + jump(w))\n",
    "end"
   ]
  },
  {
   "cell_type": "code",
   "execution_count": null,
   "id": "saving-logan",
   "metadata": {},
   "outputs": [],
   "source": [
    "jump!(1)"
   ]
  },
  {
   "cell_type": "code",
   "execution_count": null,
   "id": "registered-intelligence",
   "metadata": {},
   "outputs": [],
   "source": [
    "w"
   ]
  },
  {
   "cell_type": "code",
   "execution_count": null,
   "id": "technological-passport",
   "metadata": {},
   "outputs": [],
   "source": [
    "jump!(w)"
   ]
  },
  {
   "cell_type": "code",
   "execution_count": null,
   "id": "opposite-poison",
   "metadata": {},
   "outputs": [],
   "source": [
    "methods(pos)"
   ]
  },
  {
   "cell_type": "code",
   "execution_count": null,
   "id": "acknowledged-darwin",
   "metadata": {},
   "outputs": [],
   "source": [
    "pos(w::MyContinuousWalker) = w.y"
   ]
  },
  {
   "cell_type": "code",
   "execution_count": null,
   "id": "steady-stuff",
   "metadata": {},
   "outputs": [],
   "source": [
    "function set_pos!(w::MyContinuousWalker, pos)\n",
    "    w.y = pos\n",
    "end"
   ]
  },
  {
   "cell_type": "code",
   "execution_count": null,
   "id": "nuclear-biology",
   "metadata": {},
   "outputs": [],
   "source": [
    "jump!(w)"
   ]
  },
  {
   "cell_type": "code",
   "execution_count": null,
   "id": "double-advice",
   "metadata": {},
   "outputs": [],
   "source": [
    "walk!(w,10)"
   ]
  },
  {
   "cell_type": "code",
   "execution_count": null,
   "id": "advised-scheme",
   "metadata": {},
   "outputs": [],
   "source": [
    "methods(walk!)"
   ]
  },
  {
   "cell_type": "code",
   "execution_count": null,
   "id": "killing-column",
   "metadata": {},
   "outputs": [],
   "source": [
    "function walk!(w,N)\n",
    "    for i in 1:N\n",
    "        jump!(w)\n",
    "    end\n",
    "    return w\n",
    "end"
   ]
  },
  {
   "cell_type": "code",
   "execution_count": null,
   "id": "academic-evanescence",
   "metadata": {},
   "outputs": [],
   "source": [
    "walk!(1,2)"
   ]
  },
  {
   "cell_type": "code",
   "execution_count": null,
   "id": "dutch-information",
   "metadata": {},
   "outputs": [],
   "source": [
    "walk!(w,10)"
   ]
  },
  {
   "cell_type": "code",
   "execution_count": null,
   "id": "minor-vatican",
   "metadata": {},
   "outputs": [],
   "source": [
    "w"
   ]
  },
  {
   "cell_type": "code",
   "execution_count": null,
   "id": "quarterly-fountain",
   "metadata": {},
   "outputs": [],
   "source": [
    "abstract type RandomWalker end"
   ]
  },
  {
   "cell_type": "code",
   "execution_count": null,
   "id": "artistic-cursor",
   "metadata": {},
   "outputs": [],
   "source": [
    "RandomWalker"
   ]
  },
  {
   "cell_type": "code",
   "execution_count": null,
   "id": "moral-census",
   "metadata": {},
   "outputs": [],
   "source": [
    "methods(RandomWalker)"
   ]
  },
  {
   "cell_type": "code",
   "execution_count": null,
   "id": "hidden-transition",
   "metadata": {},
   "outputs": [],
   "source": [
    "mutable struct DiscreteWalker <: RandomWalker\n",
    "    x::Int64\n",
    "end"
   ]
  },
  {
   "cell_type": "code",
   "execution_count": null,
   "id": "wooden-popularity",
   "metadata": {},
   "outputs": [],
   "source": [
    "mutable struct ContinuousWalker <: RandomWalker\n",
    "    y::Int64\n",
    "end"
   ]
  },
  {
   "cell_type": "code",
   "execution_count": null,
   "id": "stretch-roller",
   "metadata": {},
   "outputs": [],
   "source": [
    "pos(w::DiscreteWalker) = w.x\n",
    "pos(w::ContinuousWalker) = w.y"
   ]
  },
  {
   "cell_type": "code",
   "execution_count": null,
   "id": "solid-escape",
   "metadata": {},
   "outputs": [],
   "source": [
    "function walk!(w::RandomWalker, N)\n",
    "    for i in 1:N\n",
    "        jump!(w)\n",
    "    end\n",
    "    return w\n",
    "end"
   ]
  },
  {
   "cell_type": "code",
   "execution_count": null,
   "id": "respected-disability",
   "metadata": {},
   "outputs": [],
   "source": [
    "w = DiscreteWalker(10)"
   ]
  },
  {
   "cell_type": "code",
   "execution_count": null,
   "id": "recovered-restoration",
   "metadata": {},
   "outputs": [],
   "source": [
    "w isa DiscreteWalker"
   ]
  },
  {
   "cell_type": "code",
   "execution_count": null,
   "id": "active-behavior",
   "metadata": {},
   "outputs": [],
   "source": [
    "w isa RandomWalker"
   ]
  },
  {
   "cell_type": "code",
   "execution_count": null,
   "id": "extra-sheffield",
   "metadata": {},
   "outputs": [],
   "source": [
    "[DiscreteWalker(1), DiscreteWalker(2)]"
   ]
  },
  {
   "cell_type": "code",
   "execution_count": null,
   "id": "liquid-criminal",
   "metadata": {},
   "outputs": [],
   "source": [
    "# markov chains"
   ]
  },
  {
   "cell_type": "code",
   "execution_count": null,
   "id": "absent-plasma",
   "metadata": {},
   "outputs": [],
   "source": [
    "p = 0.1\n",
    "M = [1-p p\n",
    "      0  1]"
   ]
  },
  {
   "cell_type": "code",
   "execution_count": null,
   "id": "expected-studio",
   "metadata": {},
   "outputs": [],
   "source": [
    "M = [1-p p; 0 1]"
   ]
  },
  {
   "cell_type": "code",
   "execution_count": null,
   "id": "threatened-triple",
   "metadata": {},
   "outputs": [],
   "source": [
    "P0 = [1.0 0.0]"
   ]
  },
  {
   "cell_type": "code",
   "execution_count": null,
   "id": "documentary-fiction",
   "metadata": {},
   "outputs": [],
   "source": [
    "P1 = P0 * M"
   ]
  },
  {
   "cell_type": "code",
   "execution_count": null,
   "id": "adolescent-europe",
   "metadata": {},
   "outputs": [],
   "source": [
    "P2 = P1 * M"
   ]
  },
  {
   "cell_type": "code",
   "execution_count": null,
   "id": "individual-rebel",
   "metadata": {},
   "outputs": [],
   "source": [
    "P3 = P2 * M"
   ]
  },
  {
   "cell_type": "code",
   "execution_count": null,
   "id": "intensive-spider",
   "metadata": {},
   "outputs": [],
   "source": [
    "function dynamics(P0, M, n)\n",
    "    P = copy(P0)\n",
    "    for i in 1:n\n",
    "        new_P = P * M\n",
    "        P, new_P = new_P, P\n",
    "    end\n",
    "    return P\n",
    "end"
   ]
  },
  {
   "cell_type": "code",
   "execution_count": null,
   "id": "useful-singles",
   "metadata": {},
   "outputs": [],
   "source": [
    "# Alternatives:\n",
    "\n",
    "# P *= M   # equiv to P = P * M  -- first does P * M, which creates a new vector, \n",
    "        # and then makes P point to that vector -- bad in terms of memory usage\n",
    "\n",
    "# P .*= M  #"
   ]
  },
  {
   "cell_type": "code",
   "execution_count": null,
   "id": "italian-sustainability",
   "metadata": {},
   "outputs": [],
   "source": [
    "dynamics(P0, M, 1)"
   ]
  },
  {
   "cell_type": "code",
   "execution_count": null,
   "id": "addressed-addition",
   "metadata": {},
   "outputs": [],
   "source": [
    "dynamics(P0, M, 2)"
   ]
  },
  {
   "cell_type": "code",
   "execution_count": null,
   "id": "played-cliff",
   "metadata": {},
   "outputs": [],
   "source": [
    "dynamics(P0, M, 10)"
   ]
  },
  {
   "cell_type": "code",
   "execution_count": null,
   "id": "consistent-teach",
   "metadata": {},
   "outputs": [],
   "source": [
    "dynamics(P0, M, 100)"
   ]
  },
  {
   "cell_type": "code",
   "execution_count": null,
   "id": "boxed-cargo",
   "metadata": {},
   "outputs": [],
   "source": [
    "0.9^100"
   ]
  },
  {
   "cell_type": "code",
   "execution_count": null,
   "id": "silver-coordination",
   "metadata": {},
   "outputs": [],
   "source": [
    "M2 = [1-p p\n",
    "    0.01  0.99]"
   ]
  },
  {
   "cell_type": "code",
   "execution_count": null,
   "id": "unusual-theme",
   "metadata": {},
   "outputs": [],
   "source": [
    "for n in 1:10\n",
    "    @show dynamics(P0, M2, n)\n",
    "end"
   ]
  },
  {
   "cell_type": "code",
   "execution_count": null,
   "id": "realistic-folder",
   "metadata": {},
   "outputs": [],
   "source": [
    "data2 = [dynamics(P0, M2, n) for n in 1:1000]"
   ]
  },
  {
   "cell_type": "code",
   "execution_count": null,
   "id": "finished-unknown",
   "metadata": {},
   "outputs": [],
   "source": [
    "data1 = [dynamics(P0, M, n) for n in 1:1000]"
   ]
  },
  {
   "cell_type": "code",
   "execution_count": null,
   "id": "black-intention",
   "metadata": {},
   "outputs": [],
   "source": [
    "data1 = [dynamics(big.(P0), big.(M), n) for n in 1:1000]"
   ]
  },
  {
   "cell_type": "code",
   "execution_count": null,
   "id": "sealed-intention",
   "metadata": {},
   "outputs": [],
   "source": [
    "v = data2[end]"
   ]
  },
  {
   "cell_type": "code",
   "execution_count": null,
   "id": "typical-rocket",
   "metadata": {},
   "outputs": [],
   "source": [
    "v * M2 == v"
   ]
  },
  {
   "cell_type": "code",
   "execution_count": null,
   "id": "signal-correlation",
   "metadata": {},
   "outputs": [],
   "source": [
    "v * M2 == 1.0 .* v"
   ]
  },
  {
   "cell_type": "code",
   "execution_count": null,
   "id": "recreational-oklahoma",
   "metadata": {},
   "outputs": [],
   "source": [
    "3^100"
   ]
  },
  {
   "cell_type": "code",
   "execution_count": null,
   "id": "modern-thanksgiving",
   "metadata": {},
   "outputs": [],
   "source": [
    "v * M^10"
   ]
  },
  {
   "cell_type": "code",
   "execution_count": null,
   "id": "diverse-cisco",
   "metadata": {},
   "outputs": [],
   "source": [
    "v * M2^100"
   ]
  },
  {
   "cell_type": "code",
   "execution_count": null,
   "id": "emotional-alert",
   "metadata": {},
   "outputs": [],
   "source": [
    "p = 0.1\n",
    "probs = [p * (1-p)^(n-1) for n in 1:20]"
   ]
  },
  {
   "cell_type": "code",
   "execution_count": null,
   "id": "distinguished-metro",
   "metadata": {},
   "outputs": [],
   "source": [
    "s = cumsum(probs)"
   ]
  },
  {
   "cell_type": "code",
   "execution_count": null,
   "id": "harmful-given",
   "metadata": {},
   "outputs": [],
   "source": [
    "plot(s, m=:o)"
   ]
  },
  {
   "cell_type": "code",
   "execution_count": null,
   "id": "russian-voltage",
   "metadata": {},
   "outputs": [],
   "source": [
    "ys = [0; reduce(vcat, [[s[n], s[n]] for n in 1:20])]"
   ]
  },
  {
   "cell_type": "code",
   "execution_count": null,
   "id": "sixth-jacket",
   "metadata": {},
   "outputs": [],
   "source": [
    "pop!(ys)"
   ]
  },
  {
   "cell_type": "code",
   "execution_count": null,
   "id": "chief-housing",
   "metadata": {},
   "outputs": [],
   "source": [
    "pushfirst!(ys, 0)"
   ]
  },
  {
   "cell_type": "code",
   "execution_count": null,
   "id": "secondary-broadcast",
   "metadata": {},
   "outputs": [],
   "source": [
    "xs = [0; reduce(vcat, [[n,n] for n in 1:20])]"
   ]
  },
  {
   "cell_type": "code",
   "execution_count": null,
   "id": "electoral-execution",
   "metadata": {},
   "outputs": [],
   "source": [
    "plot(xs,ys,leg=false)\n",
    "scatter!(s)\n",
    "\n",
    "ylabel!(\"cumulative probability of recovery up to time n\")\n",
    "xlabel!(\"number of days, n\")"
   ]
  },
  {
   "cell_type": "code",
   "execution_count": null,
   "id": "passive-basement",
   "metadata": {},
   "outputs": [],
   "source": [
    "plot(s, m=:o)"
   ]
  },
  {
   "cell_type": "code",
   "execution_count": null,
   "id": "oriental-interpretation",
   "metadata": {},
   "outputs": [],
   "source": [
    "# cumulative distribution of some geometric random variables"
   ]
  },
  {
   "cell_type": "code",
   "execution_count": null,
   "id": "annoying-geography",
   "metadata": {},
   "outputs": [],
   "source": [
    "\"\"\"\n",
    "    plot_cumulative!(p, N, δ=1)\n",
    "\n",
    "- `p` is prob to decay at each time step\n",
    "- `N` is total number of time steps\n",
    "- `δ` is time between steps\n",
    "\n",
    "Prob mass function is ``f_X(n) = p (1 - p)^{n-1}``\n",
    "\"\"\"\n",
    "function plot_cumulative!(p, N, δ=1; label=\"\")\n",
    "    ps = [p * (1 - p)^(n-1) for n in 1:N]\n",
    "    cumulative = cumsum(ps)\n",
    "\n",
    "    ys = [0; reduce(vcat, [ [cumulative[n], cumulative[n]] for n in 1:N ])]\n",
    "\n",
    "    pop!(ys)\n",
    "    pushfirst!(ys, 0)\n",
    "\n",
    "    xs = [0; reduce(vcat, [ [n*δ, n*δ] for n in 1:N ])];\n",
    "\n",
    "    plot!(xs, ys, label=label)\n",
    "    scatter!([n*δ for n in 1:N], cumulative, label=\"\")\n",
    "end"
   ]
  },
  {
   "cell_type": "code",
   "execution_count": null,
   "id": "increasing-pepper",
   "metadata": {},
   "outputs": [],
   "source": [
    "?plot_cumulative!"
   ]
  },
  {
   "cell_type": "code",
   "execution_count": null,
   "id": "several-wisdom",
   "metadata": {},
   "outputs": [],
   "source": [
    "plot_cumulative!(0.1,20)\n",
    "\n",
    "xlabel!(\"n\")\n",
    "ylabel!(\"cumulative probability <= n\")"
   ]
  },
  {
   "cell_type": "code",
   "execution_count": null,
   "id": "animal-picking",
   "metadata": {},
   "outputs": [],
   "source": [
    "p = 0.1\n",
    "N = 50\n",
    "δ = 0.4\n",
    "\n",
    "plot()\n",
    "plot_cumulative!(p, N, 1.0, label=\"delta = 1\")\n",
    "plot_cumulative!(p, N, δ, label=\"delta = $(δ)\")  \n",
    "# $a inserts value of variable a"
   ]
  },
  {
   "cell_type": "code",
   "execution_count": null,
   "id": "reported-poverty",
   "metadata": {},
   "outputs": [],
   "source": [
    "p = 0.1\n",
    "N = 100\n",
    "δ = 0.5\n",
    "\n",
    "@manipulate for p2 in 0.01:0.01:1.0\n",
    "    plot()\n",
    "    plot_cumulative!(p, 40, 1.0, label=\"delta = 1\")\n",
    "    plot_cumulative!(p2, N, δ, label=\"delta = $(δ)\")  # $a inserts value of variable a\n",
    "    \n",
    "    xlims!(0, 40)\n",
    "    ylims!(0, 1)\n",
    "end"
   ]
  },
  {
   "cell_type": "code",
   "execution_count": null,
   "id": "labeled-tactics",
   "metadata": {},
   "outputs": [],
   "source": [
    "λ = 2.0\n",
    "\n",
    "f(t) = λ * exp(-λ * t)"
   ]
  },
  {
   "cell_type": "code",
   "execution_count": null,
   "id": "phantom-librarian",
   "metadata": {},
   "outputs": [],
   "source": [
    "plot(f,0,5)"
   ]
  },
  {
   "cell_type": "code",
   "execution_count": null,
   "id": "suffering-religious",
   "metadata": {},
   "outputs": [],
   "source": [
    "plot(0:0.1:5,f,m=:o)"
   ]
  },
  {
   "cell_type": "code",
   "execution_count": null,
   "id": "informal-perspective",
   "metadata": {},
   "outputs": [],
   "source": [
    "r = 0:0.1:5\n",
    "\n",
    "plot(r,f.(r),lw=3)"
   ]
  },
  {
   "cell_type": "code",
   "execution_count": null,
   "id": "clear-listening",
   "metadata": {},
   "outputs": [],
   "source": [
    "g = t -> exp(-t)  # anonymous function\n",
    "# \"the function which maps t to exp(-t)\n",
    "# maths:  t ↦ exp(-t)\n",
    "\n",
    "plot(0:0.1:5, g)\n",
    "plot!(2:0.1:3, g, fill=true, alpha=0.2)"
   ]
  },
  {
   "cell_type": "code",
   "execution_count": null,
   "id": "excessive-admission",
   "metadata": {},
   "outputs": [],
   "source": [
    "rand()"
   ]
  },
  {
   "cell_type": "code",
   "execution_count": null,
   "id": "hired-emission",
   "metadata": {},
   "outputs": [],
   "source": [
    "function uniform_pdf(x)\n",
    "    if 0<=x<=1\n",
    "        return 1.0\n",
    "    else\n",
    "        return 0.0\n",
    "    end\n",
    "end"
   ]
  },
  {
   "cell_type": "code",
   "execution_count": null,
   "id": "sought-associate",
   "metadata": {},
   "outputs": [],
   "source": [
    "plot(-2:0.02:2, uniform_pdf, ratio=1)"
   ]
  },
  {
   "cell_type": "code",
   "execution_count": null,
   "id": "introductory-assault",
   "metadata": {},
   "outputs": [],
   "source": [
    "function uniform_pdf(x,a,b)\n",
    "    if a<=x<=b\n",
    "        return 1/(b-a)\n",
    "    else\n",
    "        return 0.0\n",
    "    end\n",
    "end"
   ]
  },
  {
   "cell_type": "code",
   "execution_count": null,
   "id": "corresponding-average",
   "metadata": {},
   "outputs": [],
   "source": [
    "a=-0.5\n",
    "b=1.5\n",
    "\n",
    "plot(-2:0.02:2, x -> uniform_pdf(x,a,b), ratio=1)"
   ]
  },
  {
   "cell_type": "code",
   "execution_count": null,
   "id": "oriental-emergency",
   "metadata": {},
   "outputs": [],
   "source": [
    "rand()"
   ]
  },
  {
   "cell_type": "code",
   "execution_count": null,
   "id": "anonymous-development",
   "metadata": {},
   "outputs": [],
   "source": [
    "2*rand()"
   ]
  },
  {
   "cell_type": "code",
   "execution_count": null,
   "id": "married-belly",
   "metadata": {},
   "outputs": [],
   "source": [
    "scatter(2 .* rand(1000) .- 1)"
   ]
  },
  {
   "cell_type": "code",
   "execution_count": null,
   "id": "combined-satin",
   "metadata": {},
   "outputs": [],
   "source": [
    "\"Generate a random variate which has a uniform distance on [a,b]\"\n",
    "uniform(a,b) = a + rand() * (b-a)"
   ]
  },
  {
   "cell_type": "code",
   "execution_count": null,
   "id": "noticed-attitude",
   "metadata": {},
   "outputs": [],
   "source": [
    "scatter([uniform(-0.5, 1.5) for i in 1:1000])"
   ]
  },
  {
   "cell_type": "code",
   "execution_count": null,
   "id": "arabic-muslim",
   "metadata": {},
   "outputs": [],
   "source": [
    "data = [uniform(-0.5, 1.5) for i in 1:1000]"
   ]
  },
  {
   "cell_type": "code",
   "execution_count": null,
   "id": "governing-system",
   "metadata": {},
   "outputs": [],
   "source": [
    "histogram(data, nbins=20)\n",
    "scatter!(data, zero.(data), ms=2, alpha=0.3)"
   ]
  },
  {
   "cell_type": "code",
   "execution_count": null,
   "id": "planned-formula",
   "metadata": {},
   "outputs": [],
   "source": [
    "data = [uniform(-0.5,1.5) for i in 1:1000]\n",
    "histogram(data,nbins=20)\n",
    "scatter!(data,zero.(data), ms=2, alpha=0.3)"
   ]
  },
  {
   "cell_type": "code",
   "execution_count": null,
   "id": "qualified-guinea",
   "metadata": {},
   "outputs": [],
   "source": [
    "data = [uniform(-0.5,1.5) for i in 1:10000]\n",
    "histogram(data,nbins=20)"
   ]
  },
  {
   "cell_type": "code",
   "execution_count": null,
   "id": "executed-intermediate",
   "metadata": {},
   "outputs": [],
   "source": [
    "scatter!(data,zero.(data),ms=2,alpha=0.3)"
   ]
  },
  {
   "cell_type": "code",
   "execution_count": null,
   "id": "referenced-reservoir",
   "metadata": {},
   "outputs": [],
   "source": [
    "data = [uniform(-0.5, 1.5) for i in 1:100] \n",
    "histogram(data, nbins=20)  # function in Plots.jl\n",
    "scatter!(data, zero.(data), ms=2, alpha=0.3)"
   ]
  },
  {
   "cell_type": "code",
   "execution_count": null,
   "id": "known-spouse",
   "metadata": {},
   "outputs": [],
   "source": [
    "N = 100\n",
    "data = [uniform(-0.5, 1.5) for i in 1:N] \n",
    "plot(sort(data), 1/N:1/N:1)  # empirical cumulative distribution function\n",
    "\n",
    "plot!([-0.5, 1.5], [0, 1])"
   ]
  },
  {
   "cell_type": "code",
   "execution_count": null,
   "id": "continued-infrared",
   "metadata": {},
   "outputs": [],
   "source": [
    "N = 100000\n",
    "data = [uniform(-0.5, 1.5) for i in 1:N] \n",
    "plot(sort(data), 1/N:1/N:1)  # empirical cumulative distribution function\n",
    "\n",
    "plot!([-0.5, 1.5], [0, 1])"
   ]
  },
  {
   "cell_type": "code",
   "execution_count": null,
   "id": "consolidated-saying",
   "metadata": {},
   "outputs": [],
   "source": [
    "rand()"
   ]
  },
  {
   "cell_type": "code",
   "execution_count": null,
   "id": "chubby-sound",
   "metadata": {},
   "outputs": [],
   "source": [
    "N = 1000\n",
    "data = (x -> x^2).(rand(N))"
   ]
  },
  {
   "cell_type": "code",
   "execution_count": null,
   "id": "mighty-pilot",
   "metadata": {},
   "outputs": [],
   "source": [
    "scatter(data)"
   ]
  },
  {
   "cell_type": "code",
   "execution_count": null,
   "id": "rotary-dubai",
   "metadata": {},
   "outputs": [],
   "source": [
    "N = 1000000\n",
    "data = (x -> x^2).(rand(N));\n",
    "\n",
    "stephist(data, nbins=1000, normed=true)\n",
    "plot!(x -> 1 / (2*√x))"
   ]
  },
  {
   "cell_type": "code",
   "execution_count": null,
   "id": "amber-missile",
   "metadata": {},
   "outputs": [],
   "source": [
    "F(x) = 1-exp(-λ*x)"
   ]
  },
  {
   "cell_type": "code",
   "execution_count": null,
   "id": "north-journalist",
   "metadata": {},
   "outputs": [],
   "source": [
    "x = rand()"
   ]
  },
  {
   "cell_type": "code",
   "execution_count": null,
   "id": "contained-enclosure",
   "metadata": {},
   "outputs": [],
   "source": [
    "λ=2\n",
    "y=-log(x)/λ"
   ]
  },
  {
   "cell_type": "code",
   "execution_count": null,
   "id": "listed-trinity",
   "metadata": {},
   "outputs": [],
   "source": [
    "xs=rand(1000)"
   ]
  },
  {
   "cell_type": "code",
   "execution_count": null,
   "id": "according-sheep",
   "metadata": {},
   "outputs": [],
   "source": [
    "transformation(x, λ) = -log(x) / λ"
   ]
  },
  {
   "cell_type": "code",
   "execution_count": null,
   "id": "selective-grass",
   "metadata": {},
   "outputs": [],
   "source": [
    "λ=2.0\n",
    "data=transformation.(xs,λ)"
   ]
  },
  {
   "cell_type": "code",
   "execution_count": null,
   "id": "fitted-seminar",
   "metadata": {},
   "outputs": [],
   "source": [
    "scatter(data)"
   ]
  },
  {
   "cell_type": "code",
   "execution_count": null,
   "id": "executive-observation",
   "metadata": {},
   "outputs": [],
   "source": [
    "xs = rand(100000)\n",
    "\n",
    "transformation(x,λ) = -log(x)/λ\n",
    "\n",
    "λ = 2.0\n",
    "data = transformation.(xs,λ);\n",
    "\n",
    "stephist(data,nbins=1000,yscale=:log10,normed=true)\n",
    "plot!(0:0.01:5, x->λ * exp(-λ*x), lw=3)"
   ]
  },
  {
   "cell_type": "code",
   "execution_count": null,
   "id": "judicial-juvenile",
   "metadata": {},
   "outputs": [],
   "source": [
    "# Networks"
   ]
  },
  {
   "cell_type": "code",
   "execution_count": null,
   "id": "educational-tunisia",
   "metadata": {},
   "outputs": [],
   "source": [
    "L=20\n",
    "M=zeros(Int,L,L)"
   ]
  },
  {
   "cell_type": "code",
   "execution_count": null,
   "id": "reduced-detector",
   "metadata": {},
   "outputs": [],
   "source": [
    "p=0.1"
   ]
  },
  {
   "cell_type": "code",
   "execution_count": null,
   "id": "advised-dialogue",
   "metadata": {},
   "outputs": [],
   "source": [
    "M .= rand(L,L) .< p"
   ]
  },
  {
   "cell_type": "code",
   "execution_count": null,
   "id": "registered-translator",
   "metadata": {},
   "outputs": [],
   "source": [
    "heatmap(M, ratio=1)"
   ]
  },
  {
   "cell_type": "code",
   "execution_count": null,
   "id": "banner-cambridge",
   "metadata": {},
   "outputs": [],
   "source": [
    "p=0.2\n",
    "M .= rand(L,L) .< p\n",
    "heatmap(M, ratio=1)"
   ]
  },
  {
   "cell_type": "code",
   "execution_count": null,
   "id": "divine-chemistry",
   "metadata": {},
   "outputs": [],
   "source": [
    "p=0.45\n",
    "M .= rand(L,L) .< p\n",
    "heatmap(M, ratio=1)"
   ]
  },
  {
   "cell_type": "code",
   "execution_count": null,
   "id": "controlled-jacob",
   "metadata": {},
   "outputs": [],
   "source": [
    "p=0.7\n",
    "M .= rand(L,L) .< p\n",
    "heatmap(M, ratio=1)"
   ]
  },
  {
   "cell_type": "code",
   "execution_count": null,
   "id": "heard-civilization",
   "metadata": {},
   "outputs": [],
   "source": [
    "contacts = Dict()"
   ]
  },
  {
   "cell_type": "code",
   "execution_count": null,
   "id": "scenic-wheel",
   "metadata": {},
   "outputs": [],
   "source": [
    "contacts[1] = [2,7,73]"
   ]
  },
  {
   "cell_type": "code",
   "execution_count": null,
   "id": "dated-hands",
   "metadata": {},
   "outputs": [],
   "source": [
    "contacts[2] = Set([4,7,73])"
   ]
  },
  {
   "cell_type": "code",
   "execution_count": null,
   "id": "extra-copying",
   "metadata": {},
   "outputs": [],
   "source": [
    "3 in contacts[1]"
   ]
  },
  {
   "cell_type": "code",
   "execution_count": null,
   "id": "wireless-dublin",
   "metadata": {},
   "outputs": [],
   "source": [
    "2 ∈ contacts[2]"
   ]
  },
  {
   "cell_type": "code",
   "execution_count": null,
   "id": "after-poison",
   "metadata": {},
   "outputs": [],
   "source": [
    "contacts = [[2,7,73],[4,7,73]]"
   ]
  },
  {
   "cell_type": "code",
   "execution_count": null,
   "id": "retained-double",
   "metadata": {},
   "outputs": [],
   "source": [
    "contacts[2]"
   ]
  },
  {
   "cell_type": "code",
   "execution_count": null,
   "id": "interior-partition",
   "metadata": {},
   "outputs": [],
   "source": [
    "M = rand(0:1,10,10)"
   ]
  },
  {
   "cell_type": "code",
   "execution_count": null,
   "id": "complex-beauty",
   "metadata": {},
   "outputs": [],
   "source": [
    "g = Graph()"
   ]
  },
  {
   "cell_type": "code",
   "execution_count": null,
   "id": "adjusted-monkey",
   "metadata": {},
   "outputs": [],
   "source": [
    "add_vertices!(g,5)"
   ]
  },
  {
   "cell_type": "code",
   "execution_count": null,
   "id": "adjacent-elder",
   "metadata": {},
   "outputs": [],
   "source": [
    "g"
   ]
  },
  {
   "cell_type": "code",
   "execution_count": null,
   "id": "studied-kennedy",
   "metadata": {},
   "outputs": [],
   "source": [
    "add_edge!(g, 1, 2)\n",
    "add_edge!(g, 2, 3)\n",
    "add_edge!(g, 1, 3)"
   ]
  },
  {
   "cell_type": "code",
   "execution_count": null,
   "id": "caroline-witch",
   "metadata": {},
   "outputs": [],
   "source": [
    "g"
   ]
  },
  {
   "cell_type": "code",
   "execution_count": null,
   "id": "mounted-pharmaceutical",
   "metadata": {},
   "outputs": [],
   "source": [
    "gplot(g)"
   ]
  },
  {
   "cell_type": "code",
   "execution_count": null,
   "id": "wrong-warner",
   "metadata": {},
   "outputs": [],
   "source": [
    "g = erdos_renyi(30, 0.3)"
   ]
  },
  {
   "cell_type": "code",
   "execution_count": null,
   "id": "constant-longer",
   "metadata": {},
   "outputs": [],
   "source": [
    "gplot(g)"
   ]
  },
  {
   "cell_type": "code",
   "execution_count": null,
   "id": "administrative-sunday",
   "metadata": {},
   "outputs": [],
   "source": [
    "gplot(LightGraphs.grid((3,4)))"
   ]
  },
  {
   "cell_type": "code",
   "execution_count": null,
   "id": "cultural-yeast",
   "metadata": {},
   "outputs": [],
   "source": [
    "neighbors(g,1)"
   ]
  },
  {
   "cell_type": "code",
   "execution_count": null,
   "id": "endangered-hartford",
   "metadata": {},
   "outputs": [],
   "source": [
    "g.fadjlist"
   ]
  },
  {
   "cell_type": "code",
   "execution_count": null,
   "id": "excess-freight",
   "metadata": {},
   "outputs": [],
   "source": [
    "# the end"
   ]
  },
  {
   "cell_type": "code",
   "execution_count": null,
   "id": "suspended-twenty",
   "metadata": {},
   "outputs": [],
   "source": []
  }
 ],
 "metadata": {
  "kernelspec": {
   "display_name": "Julia 1.6.0-beta1",
   "language": "julia",
   "name": "julia-1.6"
  },
  "language_info": {
   "file_extension": ".jl",
   "mimetype": "application/julia",
   "name": "julia",
   "version": "1.6.0"
  }
 },
 "nbformat": 4,
 "nbformat_minor": 5
}
